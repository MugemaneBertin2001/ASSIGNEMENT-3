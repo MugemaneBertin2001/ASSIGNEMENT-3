{
 "cells": [
  {
   "cell_type": "markdown",
   "id": "b757bbbc",
   "metadata": {},
   "source": [
    "# INTRODUCTION\n",
    "\n",
    "In this exercise, you will assist a company that sells IT accessories in answering some business questions using data and visuals, thereby contributing to enhancing their decision-making processes quickly and effectively.\n",
    "\n",
    "Explore the provided invoices data at each sales point alongside other company's files and answer the following questions. **You are encouraged to use only the method/approaches discussed in our class where possible.**"
   ]
  },
  {
   "cell_type": "markdown",
   "id": "48d1fca7",
   "metadata": {},
   "source": [
    "# With a help of an appropriate graph, Illustrate and comment on the distribution of total products sold at each sales point?"
   ]
  },
  {
   "cell_type": "code",
   "execution_count": 11,
   "id": "77cc8d34",
   "metadata": {
    "ExecuteTime": {
     "end_time": "2024-05-04T09:34:08.298478Z",
     "start_time": "2024-05-04T09:34:08.293465Z"
    }
   },
   "outputs": [
    {
     "data": {
      "text/plain": [
       "0           Storage\n",
       "1    InputAndOutput\n",
       "2           Storage\n",
       "3          Wireless\n",
       "4            Others\n",
       "5          Wireless\n",
       "6      Input/Output\n",
       "7          Wireless\n",
       "8           Storage\n",
       "9          Wireless\n",
       "Name: product_category, dtype: object"
      ]
     },
     "execution_count": 11,
     "metadata": {},
     "output_type": "execute_result"
    }
   ],
   "source": [
    "# Your Answer\n",
    "import pandas as pd\n",
    "\n",
    "\n",
    "final_products = pd.read_csv('final_products.csv')\n",
    "final_invoices_downtown = pd.read_csv('final_invoices_downtown.csv')\n",
    "final_invoices_commercial = pd.read_csv('final_invoices_commercial.csv')\n",
    "final_invoice_lines = pd.read_csv('final_invoice_lines.csv')\n",
    "final_customers = pd.read_csv('final_customers.csv')\n",
    "final_employees = pd.read_csv('final_employees.csv')\n",
    "final_products['product_category']\n"
   ]
  },
  {
   "cell_type": "code",
   "execution_count": 12,
   "id": "fb2bc181",
   "metadata": {},
   "outputs": [
    {
     "data": {
      "application/vnd.plotly.v1+json": {
       "config": {
        "plotlyServerURL": "https://plot.ly"
       },
       "data": [
        {
         "marker": {
          "color": "skyblue"
         },
         "type": "bar",
         "x": [
          "WebCam",
          "WiFi Range Extender",
          "Flash Drive",
          "Laptop Stand",
          "Wireless Keyboard",
          "Wireless Mouse",
          "Wireless Charging Pad",
          "External Hard Drive",
          "Power Bank",
          "Portable Bluetooth Speaker"
         ],
         "y": [
          697,
          708,
          661,
          669,
          651,
          669,
          638,
          636,
          630,
          659
         ]
        }
       ],
       "layout": {
        "template": {
         "data": {
          "bar": [
           {
            "error_x": {
             "color": "#2a3f5f"
            },
            "error_y": {
             "color": "#2a3f5f"
            },
            "marker": {
             "line": {
              "color": "#E5ECF6",
              "width": 0.5
             },
             "pattern": {
              "fillmode": "overlay",
              "size": 10,
              "solidity": 0.2
             }
            },
            "type": "bar"
           }
          ],
          "barpolar": [
           {
            "marker": {
             "line": {
              "color": "#E5ECF6",
              "width": 0.5
             },
             "pattern": {
              "fillmode": "overlay",
              "size": 10,
              "solidity": 0.2
             }
            },
            "type": "barpolar"
           }
          ],
          "carpet": [
           {
            "aaxis": {
             "endlinecolor": "#2a3f5f",
             "gridcolor": "white",
             "linecolor": "white",
             "minorgridcolor": "white",
             "startlinecolor": "#2a3f5f"
            },
            "baxis": {
             "endlinecolor": "#2a3f5f",
             "gridcolor": "white",
             "linecolor": "white",
             "minorgridcolor": "white",
             "startlinecolor": "#2a3f5f"
            },
            "type": "carpet"
           }
          ],
          "choropleth": [
           {
            "colorbar": {
             "outlinewidth": 0,
             "ticks": ""
            },
            "type": "choropleth"
           }
          ],
          "contour": [
           {
            "colorbar": {
             "outlinewidth": 0,
             "ticks": ""
            },
            "colorscale": [
             [
              0,
              "#0d0887"
             ],
             [
              0.1111111111111111,
              "#46039f"
             ],
             [
              0.2222222222222222,
              "#7201a8"
             ],
             [
              0.3333333333333333,
              "#9c179e"
             ],
             [
              0.4444444444444444,
              "#bd3786"
             ],
             [
              0.5555555555555556,
              "#d8576b"
             ],
             [
              0.6666666666666666,
              "#ed7953"
             ],
             [
              0.7777777777777778,
              "#fb9f3a"
             ],
             [
              0.8888888888888888,
              "#fdca26"
             ],
             [
              1,
              "#f0f921"
             ]
            ],
            "type": "contour"
           }
          ],
          "contourcarpet": [
           {
            "colorbar": {
             "outlinewidth": 0,
             "ticks": ""
            },
            "type": "contourcarpet"
           }
          ],
          "heatmap": [
           {
            "colorbar": {
             "outlinewidth": 0,
             "ticks": ""
            },
            "colorscale": [
             [
              0,
              "#0d0887"
             ],
             [
              0.1111111111111111,
              "#46039f"
             ],
             [
              0.2222222222222222,
              "#7201a8"
             ],
             [
              0.3333333333333333,
              "#9c179e"
             ],
             [
              0.4444444444444444,
              "#bd3786"
             ],
             [
              0.5555555555555556,
              "#d8576b"
             ],
             [
              0.6666666666666666,
              "#ed7953"
             ],
             [
              0.7777777777777778,
              "#fb9f3a"
             ],
             [
              0.8888888888888888,
              "#fdca26"
             ],
             [
              1,
              "#f0f921"
             ]
            ],
            "type": "heatmap"
           }
          ],
          "heatmapgl": [
           {
            "colorbar": {
             "outlinewidth": 0,
             "ticks": ""
            },
            "colorscale": [
             [
              0,
              "#0d0887"
             ],
             [
              0.1111111111111111,
              "#46039f"
             ],
             [
              0.2222222222222222,
              "#7201a8"
             ],
             [
              0.3333333333333333,
              "#9c179e"
             ],
             [
              0.4444444444444444,
              "#bd3786"
             ],
             [
              0.5555555555555556,
              "#d8576b"
             ],
             [
              0.6666666666666666,
              "#ed7953"
             ],
             [
              0.7777777777777778,
              "#fb9f3a"
             ],
             [
              0.8888888888888888,
              "#fdca26"
             ],
             [
              1,
              "#f0f921"
             ]
            ],
            "type": "heatmapgl"
           }
          ],
          "histogram": [
           {
            "marker": {
             "pattern": {
              "fillmode": "overlay",
              "size": 10,
              "solidity": 0.2
             }
            },
            "type": "histogram"
           }
          ],
          "histogram2d": [
           {
            "colorbar": {
             "outlinewidth": 0,
             "ticks": ""
            },
            "colorscale": [
             [
              0,
              "#0d0887"
             ],
             [
              0.1111111111111111,
              "#46039f"
             ],
             [
              0.2222222222222222,
              "#7201a8"
             ],
             [
              0.3333333333333333,
              "#9c179e"
             ],
             [
              0.4444444444444444,
              "#bd3786"
             ],
             [
              0.5555555555555556,
              "#d8576b"
             ],
             [
              0.6666666666666666,
              "#ed7953"
             ],
             [
              0.7777777777777778,
              "#fb9f3a"
             ],
             [
              0.8888888888888888,
              "#fdca26"
             ],
             [
              1,
              "#f0f921"
             ]
            ],
            "type": "histogram2d"
           }
          ],
          "histogram2dcontour": [
           {
            "colorbar": {
             "outlinewidth": 0,
             "ticks": ""
            },
            "colorscale": [
             [
              0,
              "#0d0887"
             ],
             [
              0.1111111111111111,
              "#46039f"
             ],
             [
              0.2222222222222222,
              "#7201a8"
             ],
             [
              0.3333333333333333,
              "#9c179e"
             ],
             [
              0.4444444444444444,
              "#bd3786"
             ],
             [
              0.5555555555555556,
              "#d8576b"
             ],
             [
              0.6666666666666666,
              "#ed7953"
             ],
             [
              0.7777777777777778,
              "#fb9f3a"
             ],
             [
              0.8888888888888888,
              "#fdca26"
             ],
             [
              1,
              "#f0f921"
             ]
            ],
            "type": "histogram2dcontour"
           }
          ],
          "mesh3d": [
           {
            "colorbar": {
             "outlinewidth": 0,
             "ticks": ""
            },
            "type": "mesh3d"
           }
          ],
          "parcoords": [
           {
            "line": {
             "colorbar": {
              "outlinewidth": 0,
              "ticks": ""
             }
            },
            "type": "parcoords"
           }
          ],
          "pie": [
           {
            "automargin": true,
            "type": "pie"
           }
          ],
          "scatter": [
           {
            "fillpattern": {
             "fillmode": "overlay",
             "size": 10,
             "solidity": 0.2
            },
            "type": "scatter"
           }
          ],
          "scatter3d": [
           {
            "line": {
             "colorbar": {
              "outlinewidth": 0,
              "ticks": ""
             }
            },
            "marker": {
             "colorbar": {
              "outlinewidth": 0,
              "ticks": ""
             }
            },
            "type": "scatter3d"
           }
          ],
          "scattercarpet": [
           {
            "marker": {
             "colorbar": {
              "outlinewidth": 0,
              "ticks": ""
             }
            },
            "type": "scattercarpet"
           }
          ],
          "scattergeo": [
           {
            "marker": {
             "colorbar": {
              "outlinewidth": 0,
              "ticks": ""
             }
            },
            "type": "scattergeo"
           }
          ],
          "scattergl": [
           {
            "marker": {
             "colorbar": {
              "outlinewidth": 0,
              "ticks": ""
             }
            },
            "type": "scattergl"
           }
          ],
          "scattermapbox": [
           {
            "marker": {
             "colorbar": {
              "outlinewidth": 0,
              "ticks": ""
             }
            },
            "type": "scattermapbox"
           }
          ],
          "scatterpolar": [
           {
            "marker": {
             "colorbar": {
              "outlinewidth": 0,
              "ticks": ""
             }
            },
            "type": "scatterpolar"
           }
          ],
          "scatterpolargl": [
           {
            "marker": {
             "colorbar": {
              "outlinewidth": 0,
              "ticks": ""
             }
            },
            "type": "scatterpolargl"
           }
          ],
          "scatterternary": [
           {
            "marker": {
             "colorbar": {
              "outlinewidth": 0,
              "ticks": ""
             }
            },
            "type": "scatterternary"
           }
          ],
          "surface": [
           {
            "colorbar": {
             "outlinewidth": 0,
             "ticks": ""
            },
            "colorscale": [
             [
              0,
              "#0d0887"
             ],
             [
              0.1111111111111111,
              "#46039f"
             ],
             [
              0.2222222222222222,
              "#7201a8"
             ],
             [
              0.3333333333333333,
              "#9c179e"
             ],
             [
              0.4444444444444444,
              "#bd3786"
             ],
             [
              0.5555555555555556,
              "#d8576b"
             ],
             [
              0.6666666666666666,
              "#ed7953"
             ],
             [
              0.7777777777777778,
              "#fb9f3a"
             ],
             [
              0.8888888888888888,
              "#fdca26"
             ],
             [
              1,
              "#f0f921"
             ]
            ],
            "type": "surface"
           }
          ],
          "table": [
           {
            "cells": {
             "fill": {
              "color": "#EBF0F8"
             },
             "line": {
              "color": "white"
             }
            },
            "header": {
             "fill": {
              "color": "#C8D4E3"
             },
             "line": {
              "color": "white"
             }
            },
            "type": "table"
           }
          ]
         },
         "layout": {
          "annotationdefaults": {
           "arrowcolor": "#2a3f5f",
           "arrowhead": 0,
           "arrowwidth": 1
          },
          "autotypenumbers": "strict",
          "coloraxis": {
           "colorbar": {
            "outlinewidth": 0,
            "ticks": ""
           }
          },
          "colorscale": {
           "diverging": [
            [
             0,
             "#8e0152"
            ],
            [
             0.1,
             "#c51b7d"
            ],
            [
             0.2,
             "#de77ae"
            ],
            [
             0.3,
             "#f1b6da"
            ],
            [
             0.4,
             "#fde0ef"
            ],
            [
             0.5,
             "#f7f7f7"
            ],
            [
             0.6,
             "#e6f5d0"
            ],
            [
             0.7,
             "#b8e186"
            ],
            [
             0.8,
             "#7fbc41"
            ],
            [
             0.9,
             "#4d9221"
            ],
            [
             1,
             "#276419"
            ]
           ],
           "sequential": [
            [
             0,
             "#0d0887"
            ],
            [
             0.1111111111111111,
             "#46039f"
            ],
            [
             0.2222222222222222,
             "#7201a8"
            ],
            [
             0.3333333333333333,
             "#9c179e"
            ],
            [
             0.4444444444444444,
             "#bd3786"
            ],
            [
             0.5555555555555556,
             "#d8576b"
            ],
            [
             0.6666666666666666,
             "#ed7953"
            ],
            [
             0.7777777777777778,
             "#fb9f3a"
            ],
            [
             0.8888888888888888,
             "#fdca26"
            ],
            [
             1,
             "#f0f921"
            ]
           ],
           "sequentialminus": [
            [
             0,
             "#0d0887"
            ],
            [
             0.1111111111111111,
             "#46039f"
            ],
            [
             0.2222222222222222,
             "#7201a8"
            ],
            [
             0.3333333333333333,
             "#9c179e"
            ],
            [
             0.4444444444444444,
             "#bd3786"
            ],
            [
             0.5555555555555556,
             "#d8576b"
            ],
            [
             0.6666666666666666,
             "#ed7953"
            ],
            [
             0.7777777777777778,
             "#fb9f3a"
            ],
            [
             0.8888888888888888,
             "#fdca26"
            ],
            [
             1,
             "#f0f921"
            ]
           ]
          },
          "colorway": [
           "#636efa",
           "#EF553B",
           "#00cc96",
           "#ab63fa",
           "#FFA15A",
           "#19d3f3",
           "#FF6692",
           "#B6E880",
           "#FF97FF",
           "#FECB52"
          ],
          "font": {
           "color": "#2a3f5f"
          },
          "geo": {
           "bgcolor": "white",
           "lakecolor": "white",
           "landcolor": "#E5ECF6",
           "showlakes": true,
           "showland": true,
           "subunitcolor": "white"
          },
          "hoverlabel": {
           "align": "left"
          },
          "hovermode": "closest",
          "mapbox": {
           "style": "light"
          },
          "paper_bgcolor": "white",
          "plot_bgcolor": "#E5ECF6",
          "polar": {
           "angularaxis": {
            "gridcolor": "white",
            "linecolor": "white",
            "ticks": ""
           },
           "bgcolor": "#E5ECF6",
           "radialaxis": {
            "gridcolor": "white",
            "linecolor": "white",
            "ticks": ""
           }
          },
          "scene": {
           "xaxis": {
            "backgroundcolor": "#E5ECF6",
            "gridcolor": "white",
            "gridwidth": 2,
            "linecolor": "white",
            "showbackground": true,
            "ticks": "",
            "zerolinecolor": "white"
           },
           "yaxis": {
            "backgroundcolor": "#E5ECF6",
            "gridcolor": "white",
            "gridwidth": 2,
            "linecolor": "white",
            "showbackground": true,
            "ticks": "",
            "zerolinecolor": "white"
           },
           "zaxis": {
            "backgroundcolor": "#E5ECF6",
            "gridcolor": "white",
            "gridwidth": 2,
            "linecolor": "white",
            "showbackground": true,
            "ticks": "",
            "zerolinecolor": "white"
           }
          },
          "shapedefaults": {
           "line": {
            "color": "#2a3f5f"
           }
          },
          "ternary": {
           "aaxis": {
            "gridcolor": "white",
            "linecolor": "white",
            "ticks": ""
           },
           "baxis": {
            "gridcolor": "white",
            "linecolor": "white",
            "ticks": ""
           },
           "bgcolor": "#E5ECF6",
           "caxis": {
            "gridcolor": "white",
            "linecolor": "white",
            "ticks": ""
           }
          },
          "title": {
           "x": 0.05
          },
          "xaxis": {
           "automargin": true,
           "gridcolor": "white",
           "linecolor": "white",
           "ticks": "",
           "title": {
            "standoff": 15
           },
           "zerolinecolor": "white",
           "zerolinewidth": 2
          },
          "yaxis": {
           "automargin": true,
           "gridcolor": "white",
           "linecolor": "white",
           "ticks": "",
           "title": {
            "standoff": 15
           },
           "zerolinecolor": "white",
           "zerolinewidth": 2
          }
         }
        },
        "title": {
         "text": "Distribution of Total Quantity Sold for Each Product"
        },
        "xaxis": {
         "tickangle": -45,
         "title": {
          "text": "Product Name"
         }
        },
        "yaxis": {
         "title": {
          "text": "Total Quantity Sold"
         }
        }
       }
      }
     },
     "metadata": {},
     "output_type": "display_data"
    }
   ],
   "source": [
    "from collections import defaultdict\n",
    "import plotly.graph_objects as go\n",
    "product_mapping = {number: name for number, name in zip(final_products['product_number'], final_products['product_name'])}\n",
    "product_quantities = defaultdict(int)\n",
    "for code, quantity in zip(final_invoice_lines['product_code'], final_invoice_lines['quantity']):\n",
    "    product_quantities[product_mapping[code]] += quantity\n",
    "fig = go.Figure(data=[go.Bar(x=list(product_quantities.keys()), y=list(product_quantities.values()), marker=dict(color='skyblue'))])\n",
    "fig.update_layout(\n",
    "    xaxis_title='Product Name',\n",
    "    yaxis_title='Total Quantity Sold',\n",
    "    title='Distribution of Total Quantity Sold for Each Product',\n",
    "    xaxis_tickangle=-45,\n",
    ")\n",
    "fig.show()\n",
    "\n"
   ]
  },
  {
   "cell_type": "markdown",
   "id": "6f2e2e48",
   "metadata": {},
   "source": []
  },
  {
   "cell_type": "markdown",
   "id": "cfab9223",
   "metadata": {},
   "source": [
    "#### Distribution of Total Products Sold at Each Sales Point\n",
    "- This barchart shows the distribution of total products sold at each sales point (total quantity sold)"
   ]
  },
  {
   "cell_type": "markdown",
   "id": "1504d840",
   "metadata": {},
   "source": [
    "# Effectively display the revenue generated by each sales officer over time. Explain any quick insights from the resulting graph."
   ]
  },
  {
   "cell_type": "code",
   "execution_count": 13,
   "id": "7a3d8b26",
   "metadata": {},
   "outputs": [
    {
     "data": {
      "text/plain": [
       "0    1\n",
       "1    2\n",
       "2    3\n",
       "3    4\n",
       "4    5\n",
       "5    6\n",
       "6    7\n",
       "Name: sales_off_id, dtype: int64"
      ]
     },
     "execution_count": 13,
     "metadata": {},
     "output_type": "execute_result"
    }
   ],
   "source": [
    "def retrieve_emp_id(employee_number):\n",
    "    return int(employee_number[4:]) \n",
    "\n",
    "final_employees['sales_off_id'] = final_employees['employee_number'].apply(retrieve_emp_id)\n",
    "final_employees['sales_off_id']\n"
   ]
  },
  {
   "cell_type": "code",
   "execution_count": 14,
   "id": "4afcdd29",
   "metadata": {},
   "outputs": [
    {
     "data": {
      "text/html": [
       "<div>\n",
       "<style scoped>\n",
       "    .dataframe tbody tr th:only-of-type {\n",
       "        vertical-align: middle;\n",
       "    }\n",
       "\n",
       "    .dataframe tbody tr th {\n",
       "        vertical-align: top;\n",
       "    }\n",
       "\n",
       "    .dataframe thead th {\n",
       "        text-align: right;\n",
       "    }\n",
       "</style>\n",
       "<table border=\"1\" class=\"dataframe\">\n",
       "  <thead>\n",
       "    <tr style=\"text-align: right;\">\n",
       "      <th></th>\n",
       "      <th>product_number</th>\n",
       "      <th>product_category</th>\n",
       "      <th>product_name</th>\n",
       "      <th>purchase_price</th>\n",
       "      <th>selling_price</th>\n",
       "      <th>product_profit</th>\n",
       "    </tr>\n",
       "  </thead>\n",
       "  <tbody>\n",
       "    <tr>\n",
       "      <th>0</th>\n",
       "      <td>1</td>\n",
       "      <td>Storage</td>\n",
       "      <td>External Hard Drive</td>\n",
       "      <td>99</td>\n",
       "      <td>110</td>\n",
       "      <td>11</td>\n",
       "    </tr>\n",
       "    <tr>\n",
       "      <th>1</th>\n",
       "      <td>2</td>\n",
       "      <td>InputAndOutput</td>\n",
       "      <td>Portable Bluetooth Speaker</td>\n",
       "      <td>55</td>\n",
       "      <td>60</td>\n",
       "      <td>5</td>\n",
       "    </tr>\n",
       "    <tr>\n",
       "      <th>2</th>\n",
       "      <td>3</td>\n",
       "      <td>Storage</td>\n",
       "      <td>Power Bank</td>\n",
       "      <td>25</td>\n",
       "      <td>40</td>\n",
       "      <td>15</td>\n",
       "    </tr>\n",
       "    <tr>\n",
       "      <th>3</th>\n",
       "      <td>4</td>\n",
       "      <td>Wireless</td>\n",
       "      <td>Wireless Mouse</td>\n",
       "      <td>6</td>\n",
       "      <td>10</td>\n",
       "      <td>4</td>\n",
       "    </tr>\n",
       "    <tr>\n",
       "      <th>4</th>\n",
       "      <td>5</td>\n",
       "      <td>Others</td>\n",
       "      <td>Laptop Stand</td>\n",
       "      <td>45</td>\n",
       "      <td>50</td>\n",
       "      <td>5</td>\n",
       "    </tr>\n",
       "    <tr>\n",
       "      <th>5</th>\n",
       "      <td>6</td>\n",
       "      <td>Wireless</td>\n",
       "      <td>Wireless Charging Pad</td>\n",
       "      <td>60</td>\n",
       "      <td>70</td>\n",
       "      <td>10</td>\n",
       "    </tr>\n",
       "    <tr>\n",
       "      <th>6</th>\n",
       "      <td>7</td>\n",
       "      <td>Input/Output</td>\n",
       "      <td>WebCam</td>\n",
       "      <td>15</td>\n",
       "      <td>18</td>\n",
       "      <td>3</td>\n",
       "    </tr>\n",
       "    <tr>\n",
       "      <th>7</th>\n",
       "      <td>8</td>\n",
       "      <td>Wireless</td>\n",
       "      <td>WiFi Range Extender</td>\n",
       "      <td>39</td>\n",
       "      <td>45</td>\n",
       "      <td>6</td>\n",
       "    </tr>\n",
       "    <tr>\n",
       "      <th>8</th>\n",
       "      <td>9</td>\n",
       "      <td>Storage</td>\n",
       "      <td>Flash Drive</td>\n",
       "      <td>8</td>\n",
       "      <td>15</td>\n",
       "      <td>7</td>\n",
       "    </tr>\n",
       "    <tr>\n",
       "      <th>9</th>\n",
       "      <td>10</td>\n",
       "      <td>Wireless</td>\n",
       "      <td>Wireless Keyboard</td>\n",
       "      <td>27</td>\n",
       "      <td>30</td>\n",
       "      <td>3</td>\n",
       "    </tr>\n",
       "  </tbody>\n",
       "</table>\n",
       "</div>"
      ],
      "text/plain": [
       "   product_number product_category                product_name  \\\n",
       "0               1          Storage         External Hard Drive   \n",
       "1               2   InputAndOutput  Portable Bluetooth Speaker   \n",
       "2               3          Storage                  Power Bank   \n",
       "3               4         Wireless              Wireless Mouse   \n",
       "4               5           Others                Laptop Stand   \n",
       "5               6         Wireless       Wireless Charging Pad   \n",
       "6               7     Input/Output                      WebCam   \n",
       "7               8         Wireless         WiFi Range Extender   \n",
       "8               9          Storage                 Flash Drive   \n",
       "9              10         Wireless           Wireless Keyboard   \n",
       "\n",
       "   purchase_price  selling_price  product_profit  \n",
       "0              99            110              11  \n",
       "1              55             60               5  \n",
       "2              25             40              15  \n",
       "3               6             10               4  \n",
       "4              45             50               5  \n",
       "5              60             70              10  \n",
       "6              15             18               3  \n",
       "7              39             45               6  \n",
       "8               8             15               7  \n",
       "9              27             30               3  "
      ]
     },
     "execution_count": 14,
     "metadata": {},
     "output_type": "execute_result"
    }
   ],
   "source": [
    "final_products['product_profit'] = final_products['selling_price'] - final_products['purchase_price']\n",
    "final_products"
   ]
  },
  {
   "cell_type": "code",
   "execution_count": 15,
   "id": "80b50b18",
   "metadata": {},
   "outputs": [
    {
     "data": {
      "text/html": [
       "<div>\n",
       "<style scoped>\n",
       "    .dataframe tbody tr th:only-of-type {\n",
       "        vertical-align: middle;\n",
       "    }\n",
       "\n",
       "    .dataframe tbody tr th {\n",
       "        vertical-align: top;\n",
       "    }\n",
       "\n",
       "    .dataframe thead th {\n",
       "        text-align: right;\n",
       "    }\n",
       "</style>\n",
       "<table border=\"1\" class=\"dataframe\">\n",
       "  <thead>\n",
       "    <tr style=\"text-align: right;\">\n",
       "      <th></th>\n",
       "      <th>invoice_id</th>\n",
       "      <th>product_code</th>\n",
       "      <th>quantity</th>\n",
       "      <th>product_number</th>\n",
       "      <th>product_category</th>\n",
       "      <th>product_name</th>\n",
       "      <th>purchase_price</th>\n",
       "      <th>selling_price</th>\n",
       "      <th>product_profit</th>\n",
       "      <th>invoice_line_profit</th>\n",
       "    </tr>\n",
       "  </thead>\n",
       "  <tbody>\n",
       "    <tr>\n",
       "      <th>0</th>\n",
       "      <td>1</td>\n",
       "      <td>7</td>\n",
       "      <td>1</td>\n",
       "      <td>7</td>\n",
       "      <td>Input/Output</td>\n",
       "      <td>WebCam</td>\n",
       "      <td>15</td>\n",
       "      <td>18</td>\n",
       "      <td>3</td>\n",
       "      <td>3</td>\n",
       "    </tr>\n",
       "    <tr>\n",
       "      <th>1</th>\n",
       "      <td>1</td>\n",
       "      <td>8</td>\n",
       "      <td>1</td>\n",
       "      <td>8</td>\n",
       "      <td>Wireless</td>\n",
       "      <td>WiFi Range Extender</td>\n",
       "      <td>39</td>\n",
       "      <td>45</td>\n",
       "      <td>6</td>\n",
       "      <td>6</td>\n",
       "    </tr>\n",
       "    <tr>\n",
       "      <th>2</th>\n",
       "      <td>1</td>\n",
       "      <td>9</td>\n",
       "      <td>3</td>\n",
       "      <td>9</td>\n",
       "      <td>Storage</td>\n",
       "      <td>Flash Drive</td>\n",
       "      <td>8</td>\n",
       "      <td>15</td>\n",
       "      <td>7</td>\n",
       "      <td>21</td>\n",
       "    </tr>\n",
       "    <tr>\n",
       "      <th>3</th>\n",
       "      <td>1</td>\n",
       "      <td>5</td>\n",
       "      <td>1</td>\n",
       "      <td>5</td>\n",
       "      <td>Others</td>\n",
       "      <td>Laptop Stand</td>\n",
       "      <td>45</td>\n",
       "      <td>50</td>\n",
       "      <td>5</td>\n",
       "      <td>5</td>\n",
       "    </tr>\n",
       "    <tr>\n",
       "      <th>4</th>\n",
       "      <td>1</td>\n",
       "      <td>10</td>\n",
       "      <td>3</td>\n",
       "      <td>10</td>\n",
       "      <td>Wireless</td>\n",
       "      <td>Wireless Keyboard</td>\n",
       "      <td>27</td>\n",
       "      <td>30</td>\n",
       "      <td>3</td>\n",
       "      <td>9</td>\n",
       "    </tr>\n",
       "    <tr>\n",
       "      <th>...</th>\n",
       "      <td>...</td>\n",
       "      <td>...</td>\n",
       "      <td>...</td>\n",
       "      <td>...</td>\n",
       "      <td>...</td>\n",
       "      <td>...</td>\n",
       "      <td>...</td>\n",
       "      <td>...</td>\n",
       "      <td>...</td>\n",
       "      <td>...</td>\n",
       "    </tr>\n",
       "    <tr>\n",
       "      <th>2663</th>\n",
       "      <td>613</td>\n",
       "      <td>4</td>\n",
       "      <td>1</td>\n",
       "      <td>4</td>\n",
       "      <td>Wireless</td>\n",
       "      <td>Wireless Mouse</td>\n",
       "      <td>6</td>\n",
       "      <td>10</td>\n",
       "      <td>4</td>\n",
       "      <td>4</td>\n",
       "    </tr>\n",
       "    <tr>\n",
       "      <th>2664</th>\n",
       "      <td>613</td>\n",
       "      <td>2</td>\n",
       "      <td>1</td>\n",
       "      <td>2</td>\n",
       "      <td>InputAndOutput</td>\n",
       "      <td>Portable Bluetooth Speaker</td>\n",
       "      <td>55</td>\n",
       "      <td>60</td>\n",
       "      <td>5</td>\n",
       "      <td>5</td>\n",
       "    </tr>\n",
       "    <tr>\n",
       "      <th>2665</th>\n",
       "      <td>613</td>\n",
       "      <td>9</td>\n",
       "      <td>4</td>\n",
       "      <td>9</td>\n",
       "      <td>Storage</td>\n",
       "      <td>Flash Drive</td>\n",
       "      <td>8</td>\n",
       "      <td>15</td>\n",
       "      <td>7</td>\n",
       "      <td>28</td>\n",
       "    </tr>\n",
       "    <tr>\n",
       "      <th>2666</th>\n",
       "      <td>613</td>\n",
       "      <td>8</td>\n",
       "      <td>3</td>\n",
       "      <td>8</td>\n",
       "      <td>Wireless</td>\n",
       "      <td>WiFi Range Extender</td>\n",
       "      <td>39</td>\n",
       "      <td>45</td>\n",
       "      <td>6</td>\n",
       "      <td>18</td>\n",
       "    </tr>\n",
       "    <tr>\n",
       "      <th>2667</th>\n",
       "      <td>613</td>\n",
       "      <td>6</td>\n",
       "      <td>3</td>\n",
       "      <td>6</td>\n",
       "      <td>Wireless</td>\n",
       "      <td>Wireless Charging Pad</td>\n",
       "      <td>60</td>\n",
       "      <td>70</td>\n",
       "      <td>10</td>\n",
       "      <td>30</td>\n",
       "    </tr>\n",
       "  </tbody>\n",
       "</table>\n",
       "<p>2668 rows × 10 columns</p>\n",
       "</div>"
      ],
      "text/plain": [
       "      invoice_id  product_code  quantity  product_number product_category  \\\n",
       "0              1             7         1               7     Input/Output   \n",
       "1              1             8         1               8         Wireless   \n",
       "2              1             9         3               9          Storage   \n",
       "3              1             5         1               5           Others   \n",
       "4              1            10         3              10         Wireless   \n",
       "...          ...           ...       ...             ...              ...   \n",
       "2663         613             4         1               4         Wireless   \n",
       "2664         613             2         1               2   InputAndOutput   \n",
       "2665         613             9         4               9          Storage   \n",
       "2666         613             8         3               8         Wireless   \n",
       "2667         613             6         3               6         Wireless   \n",
       "\n",
       "                    product_name  purchase_price  selling_price  \\\n",
       "0                         WebCam              15             18   \n",
       "1            WiFi Range Extender              39             45   \n",
       "2                    Flash Drive               8             15   \n",
       "3                   Laptop Stand              45             50   \n",
       "4              Wireless Keyboard              27             30   \n",
       "...                          ...             ...            ...   \n",
       "2663              Wireless Mouse               6             10   \n",
       "2664  Portable Bluetooth Speaker              55             60   \n",
       "2665                 Flash Drive               8             15   \n",
       "2666         WiFi Range Extender              39             45   \n",
       "2667       Wireless Charging Pad              60             70   \n",
       "\n",
       "      product_profit  invoice_line_profit  \n",
       "0                  3                    3  \n",
       "1                  6                    6  \n",
       "2                  7                   21  \n",
       "3                  5                    5  \n",
       "4                  3                    9  \n",
       "...              ...                  ...  \n",
       "2663               4                    4  \n",
       "2664               5                    5  \n",
       "2665               7                   28  \n",
       "2666               6                   18  \n",
       "2667              10                   30  \n",
       "\n",
       "[2668 rows x 10 columns]"
      ]
     },
     "execution_count": 15,
     "metadata": {},
     "output_type": "execute_result"
    }
   ],
   "source": [
    "\n",
    "final_invoice_lines\n",
    "merged_data = pd.merge(final_invoice_lines, final_products, left_on='product_code', right_on='product_number', how='left')\n",
    "merged_data['invoice_line_profit'] = merged_data['quantity'] * merged_data['product_profit']\n",
    "\n",
    "merged_data"
   ]
  },
  {
   "cell_type": "code",
   "execution_count": 16,
   "id": "3e8ed349",
   "metadata": {
    "ExecuteTime": {
     "end_time": "2024-05-04T09:34:36.097186Z",
     "start_time": "2024-05-04T09:34:36.093676Z"
    }
   },
   "outputs": [
    {
     "data": {
      "text/html": [
       "<div>\n",
       "<style scoped>\n",
       "    .dataframe tbody tr th:only-of-type {\n",
       "        vertical-align: middle;\n",
       "    }\n",
       "\n",
       "    .dataframe tbody tr th {\n",
       "        vertical-align: top;\n",
       "    }\n",
       "\n",
       "    .dataframe thead th {\n",
       "        text-align: right;\n",
       "    }\n",
       "</style>\n",
       "<table border=\"1\" class=\"dataframe\">\n",
       "  <thead>\n",
       "    <tr style=\"text-align: right;\">\n",
       "      <th></th>\n",
       "      <th>employee_number</th>\n",
       "      <th>last_name_x</th>\n",
       "      <th>first_name_x</th>\n",
       "      <th>line_manager</th>\n",
       "      <th>title</th>\n",
       "      <th>sales_off_id</th>\n",
       "      <th>first_name_y</th>\n",
       "      <th>last_name_y</th>\n",
       "      <th>country</th>\n",
       "      <th>phone_number</th>\n",
       "      <th>sales_person_id</th>\n",
       "      <th>invoice_id</th>\n",
       "      <th>invoice_date</th>\n",
       "      <th>billing_phone</th>\n",
       "      <th>invoice_line_profit</th>\n",
       "      <th>invoice_profit</th>\n",
       "    </tr>\n",
       "  </thead>\n",
       "  <tbody>\n",
       "    <tr>\n",
       "      <th>0</th>\n",
       "      <td>emp_1</td>\n",
       "      <td>Ross</td>\n",
       "      <td>Shannon</td>\n",
       "      <td>NaN</td>\n",
       "      <td>General Manager</td>\n",
       "      <td>1</td>\n",
       "      <td>NaN</td>\n",
       "      <td>NaN</td>\n",
       "      <td>NaN</td>\n",
       "      <td>NaN</td>\n",
       "      <td>NaN</td>\n",
       "      <td>NaN</td>\n",
       "      <td>NaN</td>\n",
       "      <td>NaN</td>\n",
       "      <td>NaN</td>\n",
       "      <td>NaN</td>\n",
       "    </tr>\n",
       "    <tr>\n",
       "      <th>1</th>\n",
       "      <td>emp_2</td>\n",
       "      <td>Griffin</td>\n",
       "      <td>Mark</td>\n",
       "      <td>1.0</td>\n",
       "      <td>Sales Manager</td>\n",
       "      <td>2</td>\n",
       "      <td>NaN</td>\n",
       "      <td>NaN</td>\n",
       "      <td>NaN</td>\n",
       "      <td>NaN</td>\n",
       "      <td>NaN</td>\n",
       "      <td>NaN</td>\n",
       "      <td>NaN</td>\n",
       "      <td>NaN</td>\n",
       "      <td>NaN</td>\n",
       "      <td>NaN</td>\n",
       "    </tr>\n",
       "    <tr>\n",
       "      <th>2</th>\n",
       "      <td>emp_03</td>\n",
       "      <td>Estrada</td>\n",
       "      <td>Patricia</td>\n",
       "      <td>2.0</td>\n",
       "      <td>Sales Officer</td>\n",
       "      <td>3</td>\n",
       "      <td>Anita</td>\n",
       "      <td>Ruiz</td>\n",
       "      <td>Canada</td>\n",
       "      <td>2.507667e+11</td>\n",
       "      <td>3.0</td>\n",
       "      <td>47.0</td>\n",
       "      <td>2021-04-02</td>\n",
       "      <td>2.507667e+11</td>\n",
       "      <td>73.0</td>\n",
       "      <td>101.0</td>\n",
       "    </tr>\n",
       "    <tr>\n",
       "      <th>3</th>\n",
       "      <td>emp_03</td>\n",
       "      <td>Estrada</td>\n",
       "      <td>Patricia</td>\n",
       "      <td>2.0</td>\n",
       "      <td>Sales Officer</td>\n",
       "      <td>3</td>\n",
       "      <td>Anita</td>\n",
       "      <td>Ruiz</td>\n",
       "      <td>Canada</td>\n",
       "      <td>2.507667e+11</td>\n",
       "      <td>3.0</td>\n",
       "      <td>68.0</td>\n",
       "      <td>2020-12-17</td>\n",
       "      <td>2.507667e+11</td>\n",
       "      <td>101.0</td>\n",
       "      <td>95.0</td>\n",
       "    </tr>\n",
       "    <tr>\n",
       "      <th>4</th>\n",
       "      <td>emp_03</td>\n",
       "      <td>Estrada</td>\n",
       "      <td>Patricia</td>\n",
       "      <td>2.0</td>\n",
       "      <td>Sales Officer</td>\n",
       "      <td>3</td>\n",
       "      <td>Anita</td>\n",
       "      <td>Ruiz</td>\n",
       "      <td>Canada</td>\n",
       "      <td>2.507667e+11</td>\n",
       "      <td>3.0</td>\n",
       "      <td>157.0</td>\n",
       "      <td>2023-06-03</td>\n",
       "      <td>2.507667e+11</td>\n",
       "      <td>12.0</td>\n",
       "      <td>92.0</td>\n",
       "    </tr>\n",
       "    <tr>\n",
       "      <th>...</th>\n",
       "      <td>...</td>\n",
       "      <td>...</td>\n",
       "      <td>...</td>\n",
       "      <td>...</td>\n",
       "      <td>...</td>\n",
       "      <td>...</td>\n",
       "      <td>...</td>\n",
       "      <td>...</td>\n",
       "      <td>...</td>\n",
       "      <td>...</td>\n",
       "      <td>...</td>\n",
       "      <td>...</td>\n",
       "      <td>...</td>\n",
       "      <td>...</td>\n",
       "      <td>...</td>\n",
       "      <td>...</td>\n",
       "    </tr>\n",
       "    <tr>\n",
       "      <th>517</th>\n",
       "      <td>emp_05</td>\n",
       "      <td>Petersen</td>\n",
       "      <td>Cassidy</td>\n",
       "      <td>2.0</td>\n",
       "      <td>Sales Officer</td>\n",
       "      <td>5</td>\n",
       "      <td>Sara</td>\n",
       "      <td>Lee</td>\n",
       "      <td>USA</td>\n",
       "      <td>2.507667e+11</td>\n",
       "      <td>5.0</td>\n",
       "      <td>397.0</td>\n",
       "      <td>2022-12-06</td>\n",
       "      <td>2.507667e+11</td>\n",
       "      <td>113.0</td>\n",
       "      <td>77.0</td>\n",
       "    </tr>\n",
       "    <tr>\n",
       "      <th>518</th>\n",
       "      <td>emp_05</td>\n",
       "      <td>Petersen</td>\n",
       "      <td>Cassidy</td>\n",
       "      <td>2.0</td>\n",
       "      <td>Sales Officer</td>\n",
       "      <td>5</td>\n",
       "      <td>Sara</td>\n",
       "      <td>Lee</td>\n",
       "      <td>USA</td>\n",
       "      <td>2.507667e+11</td>\n",
       "      <td>5.0</td>\n",
       "      <td>400.0</td>\n",
       "      <td>2023-07-29</td>\n",
       "      <td>2.507667e+11</td>\n",
       "      <td>72.0</td>\n",
       "      <td>38.0</td>\n",
       "    </tr>\n",
       "    <tr>\n",
       "      <th>519</th>\n",
       "      <td>emp_05</td>\n",
       "      <td>Petersen</td>\n",
       "      <td>Cassidy</td>\n",
       "      <td>2.0</td>\n",
       "      <td>Sales Officer</td>\n",
       "      <td>5</td>\n",
       "      <td>Sara</td>\n",
       "      <td>Lee</td>\n",
       "      <td>USA</td>\n",
       "      <td>2.507667e+11</td>\n",
       "      <td>5.0</td>\n",
       "      <td>500.0</td>\n",
       "      <td>2023-01-08</td>\n",
       "      <td>2.507667e+11</td>\n",
       "      <td>114.0</td>\n",
       "      <td>15.0</td>\n",
       "    </tr>\n",
       "    <tr>\n",
       "      <th>520</th>\n",
       "      <td>emp_6</td>\n",
       "      <td>Gomez</td>\n",
       "      <td>Charles</td>\n",
       "      <td>1.0</td>\n",
       "      <td>IT Manager</td>\n",
       "      <td>6</td>\n",
       "      <td>NaN</td>\n",
       "      <td>NaN</td>\n",
       "      <td>NaN</td>\n",
       "      <td>NaN</td>\n",
       "      <td>NaN</td>\n",
       "      <td>NaN</td>\n",
       "      <td>NaN</td>\n",
       "      <td>NaN</td>\n",
       "      <td>NaN</td>\n",
       "      <td>NaN</td>\n",
       "    </tr>\n",
       "    <tr>\n",
       "      <th>521</th>\n",
       "      <td>emp_7</td>\n",
       "      <td>Berry</td>\n",
       "      <td>Alexa</td>\n",
       "      <td>6.0</td>\n",
       "      <td>IT Officer</td>\n",
       "      <td>7</td>\n",
       "      <td>NaN</td>\n",
       "      <td>NaN</td>\n",
       "      <td>NaN</td>\n",
       "      <td>NaN</td>\n",
       "      <td>NaN</td>\n",
       "      <td>NaN</td>\n",
       "      <td>NaN</td>\n",
       "      <td>NaN</td>\n",
       "      <td>NaN</td>\n",
       "      <td>NaN</td>\n",
       "    </tr>\n",
       "  </tbody>\n",
       "</table>\n",
       "<p>522 rows × 16 columns</p>\n",
       "</div>"
      ],
      "text/plain": [
       "    employee_number last_name_x first_name_x  line_manager            title  \\\n",
       "0             emp_1        Ross      Shannon           NaN  General Manager   \n",
       "1             emp_2     Griffin         Mark           1.0    Sales Manager   \n",
       "2            emp_03     Estrada     Patricia           2.0    Sales Officer   \n",
       "3            emp_03     Estrada     Patricia           2.0    Sales Officer   \n",
       "4            emp_03     Estrada     Patricia           2.0    Sales Officer   \n",
       "..              ...         ...          ...           ...              ...   \n",
       "517          emp_05    Petersen      Cassidy           2.0    Sales Officer   \n",
       "518          emp_05    Petersen      Cassidy           2.0    Sales Officer   \n",
       "519          emp_05    Petersen      Cassidy           2.0    Sales Officer   \n",
       "520           emp_6       Gomez      Charles           1.0       IT Manager   \n",
       "521           emp_7       Berry        Alexa           6.0       IT Officer   \n",
       "\n",
       "     sales_off_id first_name_y last_name_y country  phone_number  \\\n",
       "0               1          NaN         NaN     NaN           NaN   \n",
       "1               2          NaN         NaN     NaN           NaN   \n",
       "2               3        Anita        Ruiz  Canada  2.507667e+11   \n",
       "3               3        Anita        Ruiz  Canada  2.507667e+11   \n",
       "4               3        Anita        Ruiz  Canada  2.507667e+11   \n",
       "..            ...          ...         ...     ...           ...   \n",
       "517             5         Sara         Lee     USA  2.507667e+11   \n",
       "518             5         Sara         Lee     USA  2.507667e+11   \n",
       "519             5         Sara         Lee     USA  2.507667e+11   \n",
       "520             6          NaN         NaN     NaN           NaN   \n",
       "521             7          NaN         NaN     NaN           NaN   \n",
       "\n",
       "     sales_person_id  invoice_id invoice_date  billing_phone  \\\n",
       "0                NaN         NaN          NaN            NaN   \n",
       "1                NaN         NaN          NaN            NaN   \n",
       "2                3.0        47.0   2021-04-02   2.507667e+11   \n",
       "3                3.0        68.0   2020-12-17   2.507667e+11   \n",
       "4                3.0       157.0   2023-06-03   2.507667e+11   \n",
       "..               ...         ...          ...            ...   \n",
       "517              5.0       397.0   2022-12-06   2.507667e+11   \n",
       "518              5.0       400.0   2023-07-29   2.507667e+11   \n",
       "519              5.0       500.0   2023-01-08   2.507667e+11   \n",
       "520              NaN         NaN          NaN            NaN   \n",
       "521              NaN         NaN          NaN            NaN   \n",
       "\n",
       "     invoice_line_profit  invoice_profit  \n",
       "0                    NaN             NaN  \n",
       "1                    NaN             NaN  \n",
       "2                   73.0           101.0  \n",
       "3                  101.0            95.0  \n",
       "4                   12.0            92.0  \n",
       "..                   ...             ...  \n",
       "517                113.0            77.0  \n",
       "518                 72.0            38.0  \n",
       "519                114.0            15.0  \n",
       "520                  NaN             NaN  \n",
       "521                  NaN             NaN  \n",
       "\n",
       "[522 rows x 16 columns]"
      ]
     },
     "execution_count": 16,
     "metadata": {},
     "output_type": "execute_result"
    }
   ],
   "source": [
    "combined_invoices = pd.concat([final_invoices_downtown, final_invoices_commercial], ignore_index=True)\n",
    "\n",
    "merged_data['invoice_line_profit'] = (merged_data['selling_price'] - merged_data['purchase_price']) * merged_data['quantity']\n",
    "\n",
    "invoice_profit = merged_data.groupby('invoice_id')['invoice_line_profit'].sum().reset_index()\n",
    "\n",
    "combined_invoices = pd.merge(combined_invoices, invoice_profit, on='invoice_id', how='left')\n",
    "combined_invoices['invoice_profit'] = invoice_profit['invoice_line_profit']\n",
    "\n",
    "billing_phone_number = combined_invoices['billing_phone']\n",
    "\n",
    "served_customers = pd.merge(final_customers, combined_invoices, left_on='phone_number', right_on='billing_phone', how='inner')\n",
    "served_customers = pd.merge(final_employees,served_customers,  left_on='sales_off_id', right_on='sales_person_id', how='left')\n",
    "\n",
    "served_customers\n"
   ]
  },
  {
   "cell_type": "code",
   "execution_count": 17,
   "id": "1f362625",
   "metadata": {},
   "outputs": [
    {
     "data": {
      "text/html": [
       "<div>\n",
       "<style scoped>\n",
       "    .dataframe tbody tr th:only-of-type {\n",
       "        vertical-align: middle;\n",
       "    }\n",
       "\n",
       "    .dataframe tbody tr th {\n",
       "        vertical-align: top;\n",
       "    }\n",
       "\n",
       "    .dataframe thead th {\n",
       "        text-align: right;\n",
       "    }\n",
       "</style>\n",
       "<table border=\"1\" class=\"dataframe\">\n",
       "  <thead>\n",
       "    <tr style=\"text-align: right;\">\n",
       "      <th></th>\n",
       "      <th>sales_person_id</th>\n",
       "      <th>profit</th>\n",
       "      <th>employee_number</th>\n",
       "      <th>line_manager</th>\n",
       "      <th>title</th>\n",
       "      <th>sales_manager_full_name</th>\n",
       "    </tr>\n",
       "  </thead>\n",
       "  <tbody>\n",
       "    <tr>\n",
       "      <th>0</th>\n",
       "      <td>3.0</td>\n",
       "      <td>20888.0</td>\n",
       "      <td>emp_03</td>\n",
       "      <td>2.0</td>\n",
       "      <td>Sales Officer</td>\n",
       "      <td>Patricia Estrada</td>\n",
       "    </tr>\n",
       "    <tr>\n",
       "      <th>1</th>\n",
       "      <td>4.0</td>\n",
       "      <td>8733.0</td>\n",
       "      <td>emp_04</td>\n",
       "      <td>2.0</td>\n",
       "      <td>Sales Officer</td>\n",
       "      <td>Alicia West</td>\n",
       "    </tr>\n",
       "    <tr>\n",
       "      <th>2</th>\n",
       "      <td>5.0</td>\n",
       "      <td>15440.0</td>\n",
       "      <td>emp_05</td>\n",
       "      <td>2.0</td>\n",
       "      <td>Sales Officer</td>\n",
       "      <td>Cassidy Petersen</td>\n",
       "    </tr>\n",
       "  </tbody>\n",
       "</table>\n",
       "</div>"
      ],
      "text/plain": [
       "   sales_person_id   profit employee_number  line_manager          title  \\\n",
       "0              3.0  20888.0          emp_03           2.0  Sales Officer   \n",
       "1              4.0   8733.0          emp_04           2.0  Sales Officer   \n",
       "2              5.0  15440.0          emp_05           2.0  Sales Officer   \n",
       "\n",
       "  sales_manager_full_name  \n",
       "0        Patricia Estrada  \n",
       "1             Alicia West  \n",
       "2        Cassidy Petersen  "
      ]
     },
     "execution_count": 17,
     "metadata": {},
     "output_type": "execute_result"
    }
   ],
   "source": [
    "\n",
    "sales_manager_profit = served_customers.groupby('sales_person_id')['invoice_profit'].sum().reset_index()\n",
    "\n",
    "sales_manager_profit = pd.merge(sales_manager_profit, final_employees, left_on='sales_person_id', right_on='sales_off_id', how='left')\n",
    "sales_manager_profit\n",
    "\n",
    "\n",
    "sales_manager_profit['sales_manager_full_name'] = sales_manager_profit['first_name'] + ' ' + sales_manager_profit['last_name']\n",
    "\n",
    "sales_manager_profit.rename(columns={'invoice_profit': 'profit'}, inplace=True)\n",
    "sales_manager_profit.drop(columns=['sales_off_id', 'first_name', 'last_name'], inplace=True)\n",
    "sales_manager_profit\n",
    "\n"
   ]
  },
  {
   "cell_type": "code",
   "execution_count": 21,
   "id": "d93f49be",
   "metadata": {},
   "outputs": [
    {
     "data": {
      "application/vnd.plotly.v1+json": {
       "config": {
        "plotlyServerURL": "https://plot.ly"
       },
       "data": [
        {
         "domain": {
          "x": [
           0,
           1
          ],
          "y": [
           0,
           1
          ]
         },
         "hovertemplate": "sales_manager_full_name=%{label}<br>total_revenue=%{value}<extra></extra>",
         "labels": [
          "Patricia Estrada",
          "Alicia West",
          "Cassidy Petersen"
         ],
         "legendgroup": "",
         "name": "",
         "showlegend": true,
         "type": "pie",
         "values": [
          20888,
          8733,
          15440
         ]
        }
       ],
       "layout": {
        "legend": {
         "tracegroupgap": 0
        },
        "template": {
         "data": {
          "bar": [
           {
            "error_x": {
             "color": "#2a3f5f"
            },
            "error_y": {
             "color": "#2a3f5f"
            },
            "marker": {
             "line": {
              "color": "#E5ECF6",
              "width": 0.5
             },
             "pattern": {
              "fillmode": "overlay",
              "size": 10,
              "solidity": 0.2
             }
            },
            "type": "bar"
           }
          ],
          "barpolar": [
           {
            "marker": {
             "line": {
              "color": "#E5ECF6",
              "width": 0.5
             },
             "pattern": {
              "fillmode": "overlay",
              "size": 10,
              "solidity": 0.2
             }
            },
            "type": "barpolar"
           }
          ],
          "carpet": [
           {
            "aaxis": {
             "endlinecolor": "#2a3f5f",
             "gridcolor": "white",
             "linecolor": "white",
             "minorgridcolor": "white",
             "startlinecolor": "#2a3f5f"
            },
            "baxis": {
             "endlinecolor": "#2a3f5f",
             "gridcolor": "white",
             "linecolor": "white",
             "minorgridcolor": "white",
             "startlinecolor": "#2a3f5f"
            },
            "type": "carpet"
           }
          ],
          "choropleth": [
           {
            "colorbar": {
             "outlinewidth": 0,
             "ticks": ""
            },
            "type": "choropleth"
           }
          ],
          "contour": [
           {
            "colorbar": {
             "outlinewidth": 0,
             "ticks": ""
            },
            "colorscale": [
             [
              0,
              "#0d0887"
             ],
             [
              0.1111111111111111,
              "#46039f"
             ],
             [
              0.2222222222222222,
              "#7201a8"
             ],
             [
              0.3333333333333333,
              "#9c179e"
             ],
             [
              0.4444444444444444,
              "#bd3786"
             ],
             [
              0.5555555555555556,
              "#d8576b"
             ],
             [
              0.6666666666666666,
              "#ed7953"
             ],
             [
              0.7777777777777778,
              "#fb9f3a"
             ],
             [
              0.8888888888888888,
              "#fdca26"
             ],
             [
              1,
              "#f0f921"
             ]
            ],
            "type": "contour"
           }
          ],
          "contourcarpet": [
           {
            "colorbar": {
             "outlinewidth": 0,
             "ticks": ""
            },
            "type": "contourcarpet"
           }
          ],
          "heatmap": [
           {
            "colorbar": {
             "outlinewidth": 0,
             "ticks": ""
            },
            "colorscale": [
             [
              0,
              "#0d0887"
             ],
             [
              0.1111111111111111,
              "#46039f"
             ],
             [
              0.2222222222222222,
              "#7201a8"
             ],
             [
              0.3333333333333333,
              "#9c179e"
             ],
             [
              0.4444444444444444,
              "#bd3786"
             ],
             [
              0.5555555555555556,
              "#d8576b"
             ],
             [
              0.6666666666666666,
              "#ed7953"
             ],
             [
              0.7777777777777778,
              "#fb9f3a"
             ],
             [
              0.8888888888888888,
              "#fdca26"
             ],
             [
              1,
              "#f0f921"
             ]
            ],
            "type": "heatmap"
           }
          ],
          "heatmapgl": [
           {
            "colorbar": {
             "outlinewidth": 0,
             "ticks": ""
            },
            "colorscale": [
             [
              0,
              "#0d0887"
             ],
             [
              0.1111111111111111,
              "#46039f"
             ],
             [
              0.2222222222222222,
              "#7201a8"
             ],
             [
              0.3333333333333333,
              "#9c179e"
             ],
             [
              0.4444444444444444,
              "#bd3786"
             ],
             [
              0.5555555555555556,
              "#d8576b"
             ],
             [
              0.6666666666666666,
              "#ed7953"
             ],
             [
              0.7777777777777778,
              "#fb9f3a"
             ],
             [
              0.8888888888888888,
              "#fdca26"
             ],
             [
              1,
              "#f0f921"
             ]
            ],
            "type": "heatmapgl"
           }
          ],
          "histogram": [
           {
            "marker": {
             "pattern": {
              "fillmode": "overlay",
              "size": 10,
              "solidity": 0.2
             }
            },
            "type": "histogram"
           }
          ],
          "histogram2d": [
           {
            "colorbar": {
             "outlinewidth": 0,
             "ticks": ""
            },
            "colorscale": [
             [
              0,
              "#0d0887"
             ],
             [
              0.1111111111111111,
              "#46039f"
             ],
             [
              0.2222222222222222,
              "#7201a8"
             ],
             [
              0.3333333333333333,
              "#9c179e"
             ],
             [
              0.4444444444444444,
              "#bd3786"
             ],
             [
              0.5555555555555556,
              "#d8576b"
             ],
             [
              0.6666666666666666,
              "#ed7953"
             ],
             [
              0.7777777777777778,
              "#fb9f3a"
             ],
             [
              0.8888888888888888,
              "#fdca26"
             ],
             [
              1,
              "#f0f921"
             ]
            ],
            "type": "histogram2d"
           }
          ],
          "histogram2dcontour": [
           {
            "colorbar": {
             "outlinewidth": 0,
             "ticks": ""
            },
            "colorscale": [
             [
              0,
              "#0d0887"
             ],
             [
              0.1111111111111111,
              "#46039f"
             ],
             [
              0.2222222222222222,
              "#7201a8"
             ],
             [
              0.3333333333333333,
              "#9c179e"
             ],
             [
              0.4444444444444444,
              "#bd3786"
             ],
             [
              0.5555555555555556,
              "#d8576b"
             ],
             [
              0.6666666666666666,
              "#ed7953"
             ],
             [
              0.7777777777777778,
              "#fb9f3a"
             ],
             [
              0.8888888888888888,
              "#fdca26"
             ],
             [
              1,
              "#f0f921"
             ]
            ],
            "type": "histogram2dcontour"
           }
          ],
          "mesh3d": [
           {
            "colorbar": {
             "outlinewidth": 0,
             "ticks": ""
            },
            "type": "mesh3d"
           }
          ],
          "parcoords": [
           {
            "line": {
             "colorbar": {
              "outlinewidth": 0,
              "ticks": ""
             }
            },
            "type": "parcoords"
           }
          ],
          "pie": [
           {
            "automargin": true,
            "type": "pie"
           }
          ],
          "scatter": [
           {
            "fillpattern": {
             "fillmode": "overlay",
             "size": 10,
             "solidity": 0.2
            },
            "type": "scatter"
           }
          ],
          "scatter3d": [
           {
            "line": {
             "colorbar": {
              "outlinewidth": 0,
              "ticks": ""
             }
            },
            "marker": {
             "colorbar": {
              "outlinewidth": 0,
              "ticks": ""
             }
            },
            "type": "scatter3d"
           }
          ],
          "scattercarpet": [
           {
            "marker": {
             "colorbar": {
              "outlinewidth": 0,
              "ticks": ""
             }
            },
            "type": "scattercarpet"
           }
          ],
          "scattergeo": [
           {
            "marker": {
             "colorbar": {
              "outlinewidth": 0,
              "ticks": ""
             }
            },
            "type": "scattergeo"
           }
          ],
          "scattergl": [
           {
            "marker": {
             "colorbar": {
              "outlinewidth": 0,
              "ticks": ""
             }
            },
            "type": "scattergl"
           }
          ],
          "scattermapbox": [
           {
            "marker": {
             "colorbar": {
              "outlinewidth": 0,
              "ticks": ""
             }
            },
            "type": "scattermapbox"
           }
          ],
          "scatterpolar": [
           {
            "marker": {
             "colorbar": {
              "outlinewidth": 0,
              "ticks": ""
             }
            },
            "type": "scatterpolar"
           }
          ],
          "scatterpolargl": [
           {
            "marker": {
             "colorbar": {
              "outlinewidth": 0,
              "ticks": ""
             }
            },
            "type": "scatterpolargl"
           }
          ],
          "scatterternary": [
           {
            "marker": {
             "colorbar": {
              "outlinewidth": 0,
              "ticks": ""
             }
            },
            "type": "scatterternary"
           }
          ],
          "surface": [
           {
            "colorbar": {
             "outlinewidth": 0,
             "ticks": ""
            },
            "colorscale": [
             [
              0,
              "#0d0887"
             ],
             [
              0.1111111111111111,
              "#46039f"
             ],
             [
              0.2222222222222222,
              "#7201a8"
             ],
             [
              0.3333333333333333,
              "#9c179e"
             ],
             [
              0.4444444444444444,
              "#bd3786"
             ],
             [
              0.5555555555555556,
              "#d8576b"
             ],
             [
              0.6666666666666666,
              "#ed7953"
             ],
             [
              0.7777777777777778,
              "#fb9f3a"
             ],
             [
              0.8888888888888888,
              "#fdca26"
             ],
             [
              1,
              "#f0f921"
             ]
            ],
            "type": "surface"
           }
          ],
          "table": [
           {
            "cells": {
             "fill": {
              "color": "#EBF0F8"
             },
             "line": {
              "color": "white"
             }
            },
            "header": {
             "fill": {
              "color": "#C8D4E3"
             },
             "line": {
              "color": "white"
             }
            },
            "type": "table"
           }
          ]
         },
         "layout": {
          "annotationdefaults": {
           "arrowcolor": "#2a3f5f",
           "arrowhead": 0,
           "arrowwidth": 1
          },
          "autotypenumbers": "strict",
          "coloraxis": {
           "colorbar": {
            "outlinewidth": 0,
            "ticks": ""
           }
          },
          "colorscale": {
           "diverging": [
            [
             0,
             "#8e0152"
            ],
            [
             0.1,
             "#c51b7d"
            ],
            [
             0.2,
             "#de77ae"
            ],
            [
             0.3,
             "#f1b6da"
            ],
            [
             0.4,
             "#fde0ef"
            ],
            [
             0.5,
             "#f7f7f7"
            ],
            [
             0.6,
             "#e6f5d0"
            ],
            [
             0.7,
             "#b8e186"
            ],
            [
             0.8,
             "#7fbc41"
            ],
            [
             0.9,
             "#4d9221"
            ],
            [
             1,
             "#276419"
            ]
           ],
           "sequential": [
            [
             0,
             "#0d0887"
            ],
            [
             0.1111111111111111,
             "#46039f"
            ],
            [
             0.2222222222222222,
             "#7201a8"
            ],
            [
             0.3333333333333333,
             "#9c179e"
            ],
            [
             0.4444444444444444,
             "#bd3786"
            ],
            [
             0.5555555555555556,
             "#d8576b"
            ],
            [
             0.6666666666666666,
             "#ed7953"
            ],
            [
             0.7777777777777778,
             "#fb9f3a"
            ],
            [
             0.8888888888888888,
             "#fdca26"
            ],
            [
             1,
             "#f0f921"
            ]
           ],
           "sequentialminus": [
            [
             0,
             "#0d0887"
            ],
            [
             0.1111111111111111,
             "#46039f"
            ],
            [
             0.2222222222222222,
             "#7201a8"
            ],
            [
             0.3333333333333333,
             "#9c179e"
            ],
            [
             0.4444444444444444,
             "#bd3786"
            ],
            [
             0.5555555555555556,
             "#d8576b"
            ],
            [
             0.6666666666666666,
             "#ed7953"
            ],
            [
             0.7777777777777778,
             "#fb9f3a"
            ],
            [
             0.8888888888888888,
             "#fdca26"
            ],
            [
             1,
             "#f0f921"
            ]
           ]
          },
          "colorway": [
           "#636efa",
           "#EF553B",
           "#00cc96",
           "#ab63fa",
           "#FFA15A",
           "#19d3f3",
           "#FF6692",
           "#B6E880",
           "#FF97FF",
           "#FECB52"
          ],
          "font": {
           "color": "#2a3f5f"
          },
          "geo": {
           "bgcolor": "white",
           "lakecolor": "white",
           "landcolor": "#E5ECF6",
           "showlakes": true,
           "showland": true,
           "subunitcolor": "white"
          },
          "hoverlabel": {
           "align": "left"
          },
          "hovermode": "closest",
          "mapbox": {
           "style": "light"
          },
          "paper_bgcolor": "white",
          "plot_bgcolor": "#E5ECF6",
          "polar": {
           "angularaxis": {
            "gridcolor": "white",
            "linecolor": "white",
            "ticks": ""
           },
           "bgcolor": "#E5ECF6",
           "radialaxis": {
            "gridcolor": "white",
            "linecolor": "white",
            "ticks": ""
           }
          },
          "scene": {
           "xaxis": {
            "backgroundcolor": "#E5ECF6",
            "gridcolor": "white",
            "gridwidth": 2,
            "linecolor": "white",
            "showbackground": true,
            "ticks": "",
            "zerolinecolor": "white"
           },
           "yaxis": {
            "backgroundcolor": "#E5ECF6",
            "gridcolor": "white",
            "gridwidth": 2,
            "linecolor": "white",
            "showbackground": true,
            "ticks": "",
            "zerolinecolor": "white"
           },
           "zaxis": {
            "backgroundcolor": "#E5ECF6",
            "gridcolor": "white",
            "gridwidth": 2,
            "linecolor": "white",
            "showbackground": true,
            "ticks": "",
            "zerolinecolor": "white"
           }
          },
          "shapedefaults": {
           "line": {
            "color": "#2a3f5f"
           }
          },
          "ternary": {
           "aaxis": {
            "gridcolor": "white",
            "linecolor": "white",
            "ticks": ""
           },
           "baxis": {
            "gridcolor": "white",
            "linecolor": "white",
            "ticks": ""
           },
           "bgcolor": "#E5ECF6",
           "caxis": {
            "gridcolor": "white",
            "linecolor": "white",
            "ticks": ""
           }
          },
          "title": {
           "x": 0.05
          },
          "xaxis": {
           "automargin": true,
           "gridcolor": "white",
           "linecolor": "white",
           "ticks": "",
           "title": {
            "standoff": 15
           },
           "zerolinecolor": "white",
           "zerolinewidth": 2
          },
          "yaxis": {
           "automargin": true,
           "gridcolor": "white",
           "linecolor": "white",
           "ticks": "",
           "title": {
            "standoff": 15
           },
           "zerolinecolor": "white",
           "zerolinewidth": 2
          }
         }
        },
        "title": {
         "text": "Revenue generated by Sales officesr"
        }
       }
      }
     },
     "metadata": {},
     "output_type": "display_data"
    }
   ],
   "source": [
    "import pandas as pd\n",
    "import plotly.express as px\n",
    "\n",
    "pie_data = {\n",
    "    'sales_manager_full_name':sales_manager_profit['sales_manager_full_name'] ,\n",
    "    'total_revenue': sales_manager_profit['profit']\n",
    "}\n",
    "\n",
    "sales_manager_revenue_mock = pd.DataFrame(pie_data)\n",
    "\n",
    "fig = px.pie(sales_manager_revenue_mock, values='total_revenue', names='sales_manager_full_name', title='Revenue generated by Sales officesr')\n",
    "fig.show()\n",
    "\n"
   ]
  },
  {
   "cell_type": "markdown",
   "id": "7eeedfee",
   "metadata": {},
   "source": [
    "# Determine the most active days of the week for each product category by analyzing the average number of products sold and display the result using an appropriate graph.  What are your thoughts on the resulting graph?"
   ]
  },
  {
   "cell_type": "code",
   "execution_count": 19,
   "id": "e1537165",
   "metadata": {},
   "outputs": [
    {
     "data": {
      "text/html": [
       "<div>\n",
       "<style scoped>\n",
       "    .dataframe tbody tr th:only-of-type {\n",
       "        vertical-align: middle;\n",
       "    }\n",
       "\n",
       "    .dataframe tbody tr th {\n",
       "        vertical-align: top;\n",
       "    }\n",
       "\n",
       "    .dataframe thead th {\n",
       "        text-align: right;\n",
       "    }\n",
       "</style>\n",
       "<table border=\"1\" class=\"dataframe\">\n",
       "  <thead>\n",
       "    <tr style=\"text-align: right;\">\n",
       "      <th></th>\n",
       "      <th>invoice_id</th>\n",
       "      <th>product_code</th>\n",
       "      <th>quantity</th>\n",
       "      <th>product_number</th>\n",
       "      <th>product_category</th>\n",
       "      <th>product_name</th>\n",
       "      <th>purchase_price</th>\n",
       "      <th>selling_price</th>\n",
       "      <th>product_profit</th>\n",
       "      <th>invoice_line_profit_x</th>\n",
       "      <th>invoice_date</th>\n",
       "      <th>billing_phone</th>\n",
       "      <th>invoice_line_profit_y</th>\n",
       "      <th>invoice_profit</th>\n",
       "      <th>week_day_name</th>\n",
       "    </tr>\n",
       "  </thead>\n",
       "  <tbody>\n",
       "    <tr>\n",
       "      <th>0</th>\n",
       "      <td>1</td>\n",
       "      <td>7</td>\n",
       "      <td>1</td>\n",
       "      <td>7</td>\n",
       "      <td>Input/Output</td>\n",
       "      <td>WebCam</td>\n",
       "      <td>15</td>\n",
       "      <td>18</td>\n",
       "      <td>3</td>\n",
       "      <td>3</td>\n",
       "      <td>2020-12-14</td>\n",
       "      <td>250766666618</td>\n",
       "      <td>88</td>\n",
       "      <td>99</td>\n",
       "      <td>Monday</td>\n",
       "    </tr>\n",
       "    <tr>\n",
       "      <th>1</th>\n",
       "      <td>1</td>\n",
       "      <td>8</td>\n",
       "      <td>1</td>\n",
       "      <td>8</td>\n",
       "      <td>Wireless</td>\n",
       "      <td>WiFi Range Extender</td>\n",
       "      <td>39</td>\n",
       "      <td>45</td>\n",
       "      <td>6</td>\n",
       "      <td>6</td>\n",
       "      <td>2020-12-14</td>\n",
       "      <td>250766666618</td>\n",
       "      <td>88</td>\n",
       "      <td>99</td>\n",
       "      <td>Monday</td>\n",
       "    </tr>\n",
       "    <tr>\n",
       "      <th>2</th>\n",
       "      <td>1</td>\n",
       "      <td>9</td>\n",
       "      <td>3</td>\n",
       "      <td>9</td>\n",
       "      <td>Storage</td>\n",
       "      <td>Flash Drive</td>\n",
       "      <td>8</td>\n",
       "      <td>15</td>\n",
       "      <td>7</td>\n",
       "      <td>21</td>\n",
       "      <td>2020-12-14</td>\n",
       "      <td>250766666618</td>\n",
       "      <td>88</td>\n",
       "      <td>99</td>\n",
       "      <td>Monday</td>\n",
       "    </tr>\n",
       "    <tr>\n",
       "      <th>3</th>\n",
       "      <td>1</td>\n",
       "      <td>5</td>\n",
       "      <td>1</td>\n",
       "      <td>5</td>\n",
       "      <td>Others</td>\n",
       "      <td>Laptop Stand</td>\n",
       "      <td>45</td>\n",
       "      <td>50</td>\n",
       "      <td>5</td>\n",
       "      <td>5</td>\n",
       "      <td>2020-12-14</td>\n",
       "      <td>250766666618</td>\n",
       "      <td>88</td>\n",
       "      <td>99</td>\n",
       "      <td>Monday</td>\n",
       "    </tr>\n",
       "    <tr>\n",
       "      <th>4</th>\n",
       "      <td>1</td>\n",
       "      <td>10</td>\n",
       "      <td>3</td>\n",
       "      <td>10</td>\n",
       "      <td>Wireless</td>\n",
       "      <td>Wireless Keyboard</td>\n",
       "      <td>27</td>\n",
       "      <td>30</td>\n",
       "      <td>3</td>\n",
       "      <td>9</td>\n",
       "      <td>2020-12-14</td>\n",
       "      <td>250766666618</td>\n",
       "      <td>88</td>\n",
       "      <td>99</td>\n",
       "      <td>Monday</td>\n",
       "    </tr>\n",
       "    <tr>\n",
       "      <th>...</th>\n",
       "      <td>...</td>\n",
       "      <td>...</td>\n",
       "      <td>...</td>\n",
       "      <td>...</td>\n",
       "      <td>...</td>\n",
       "      <td>...</td>\n",
       "      <td>...</td>\n",
       "      <td>...</td>\n",
       "      <td>...</td>\n",
       "      <td>...</td>\n",
       "      <td>...</td>\n",
       "      <td>...</td>\n",
       "      <td>...</td>\n",
       "      <td>...</td>\n",
       "      <td>...</td>\n",
       "    </tr>\n",
       "    <tr>\n",
       "      <th>2663</th>\n",
       "      <td>613</td>\n",
       "      <td>4</td>\n",
       "      <td>1</td>\n",
       "      <td>4</td>\n",
       "      <td>Wireless</td>\n",
       "      <td>Wireless Mouse</td>\n",
       "      <td>6</td>\n",
       "      <td>10</td>\n",
       "      <td>4</td>\n",
       "      <td>4</td>\n",
       "      <td>2021-02-27</td>\n",
       "      <td>250766666620</td>\n",
       "      <td>85</td>\n",
       "      <td>59</td>\n",
       "      <td>Saturday</td>\n",
       "    </tr>\n",
       "    <tr>\n",
       "      <th>2664</th>\n",
       "      <td>613</td>\n",
       "      <td>2</td>\n",
       "      <td>1</td>\n",
       "      <td>2</td>\n",
       "      <td>InputAndOutput</td>\n",
       "      <td>Portable Bluetooth Speaker</td>\n",
       "      <td>55</td>\n",
       "      <td>60</td>\n",
       "      <td>5</td>\n",
       "      <td>5</td>\n",
       "      <td>2021-02-27</td>\n",
       "      <td>250766666620</td>\n",
       "      <td>85</td>\n",
       "      <td>59</td>\n",
       "      <td>Saturday</td>\n",
       "    </tr>\n",
       "    <tr>\n",
       "      <th>2665</th>\n",
       "      <td>613</td>\n",
       "      <td>9</td>\n",
       "      <td>4</td>\n",
       "      <td>9</td>\n",
       "      <td>Storage</td>\n",
       "      <td>Flash Drive</td>\n",
       "      <td>8</td>\n",
       "      <td>15</td>\n",
       "      <td>7</td>\n",
       "      <td>28</td>\n",
       "      <td>2021-02-27</td>\n",
       "      <td>250766666620</td>\n",
       "      <td>85</td>\n",
       "      <td>59</td>\n",
       "      <td>Saturday</td>\n",
       "    </tr>\n",
       "    <tr>\n",
       "      <th>2666</th>\n",
       "      <td>613</td>\n",
       "      <td>8</td>\n",
       "      <td>3</td>\n",
       "      <td>8</td>\n",
       "      <td>Wireless</td>\n",
       "      <td>WiFi Range Extender</td>\n",
       "      <td>39</td>\n",
       "      <td>45</td>\n",
       "      <td>6</td>\n",
       "      <td>18</td>\n",
       "      <td>2021-02-27</td>\n",
       "      <td>250766666620</td>\n",
       "      <td>85</td>\n",
       "      <td>59</td>\n",
       "      <td>Saturday</td>\n",
       "    </tr>\n",
       "    <tr>\n",
       "      <th>2667</th>\n",
       "      <td>613</td>\n",
       "      <td>6</td>\n",
       "      <td>3</td>\n",
       "      <td>6</td>\n",
       "      <td>Wireless</td>\n",
       "      <td>Wireless Charging Pad</td>\n",
       "      <td>60</td>\n",
       "      <td>70</td>\n",
       "      <td>10</td>\n",
       "      <td>30</td>\n",
       "      <td>2021-02-27</td>\n",
       "      <td>250766666620</td>\n",
       "      <td>85</td>\n",
       "      <td>59</td>\n",
       "      <td>Saturday</td>\n",
       "    </tr>\n",
       "  </tbody>\n",
       "</table>\n",
       "<p>2668 rows × 15 columns</p>\n",
       "</div>"
      ],
      "text/plain": [
       "      invoice_id  product_code  quantity  product_number product_category  \\\n",
       "0              1             7         1               7     Input/Output   \n",
       "1              1             8         1               8         Wireless   \n",
       "2              1             9         3               9          Storage   \n",
       "3              1             5         1               5           Others   \n",
       "4              1            10         3              10         Wireless   \n",
       "...          ...           ...       ...             ...              ...   \n",
       "2663         613             4         1               4         Wireless   \n",
       "2664         613             2         1               2   InputAndOutput   \n",
       "2665         613             9         4               9          Storage   \n",
       "2666         613             8         3               8         Wireless   \n",
       "2667         613             6         3               6         Wireless   \n",
       "\n",
       "                    product_name  purchase_price  selling_price  \\\n",
       "0                         WebCam              15             18   \n",
       "1            WiFi Range Extender              39             45   \n",
       "2                    Flash Drive               8             15   \n",
       "3                   Laptop Stand              45             50   \n",
       "4              Wireless Keyboard              27             30   \n",
       "...                          ...             ...            ...   \n",
       "2663              Wireless Mouse               6             10   \n",
       "2664  Portable Bluetooth Speaker              55             60   \n",
       "2665                 Flash Drive               8             15   \n",
       "2666         WiFi Range Extender              39             45   \n",
       "2667       Wireless Charging Pad              60             70   \n",
       "\n",
       "      product_profit  invoice_line_profit_x invoice_date  billing_phone  \\\n",
       "0                  3                      3   2020-12-14   250766666618   \n",
       "1                  6                      6   2020-12-14   250766666618   \n",
       "2                  7                     21   2020-12-14   250766666618   \n",
       "3                  5                      5   2020-12-14   250766666618   \n",
       "4                  3                      9   2020-12-14   250766666618   \n",
       "...              ...                    ...          ...            ...   \n",
       "2663               4                      4   2021-02-27   250766666620   \n",
       "2664               5                      5   2021-02-27   250766666620   \n",
       "2665               7                     28   2021-02-27   250766666620   \n",
       "2666               6                     18   2021-02-27   250766666620   \n",
       "2667              10                     30   2021-02-27   250766666620   \n",
       "\n",
       "      invoice_line_profit_y  invoice_profit week_day_name  \n",
       "0                        88              99        Monday  \n",
       "1                        88              99        Monday  \n",
       "2                        88              99        Monday  \n",
       "3                        88              99        Monday  \n",
       "4                        88              99        Monday  \n",
       "...                     ...             ...           ...  \n",
       "2663                     85              59      Saturday  \n",
       "2664                     85              59      Saturday  \n",
       "2665                     85              59      Saturday  \n",
       "2666                     85              59      Saturday  \n",
       "2667                     85              59      Saturday  \n",
       "\n",
       "[2668 rows x 15 columns]"
      ]
     },
     "execution_count": 19,
     "metadata": {},
     "output_type": "execute_result"
    }
   ],
   "source": [
    "from datetime import datetime\n",
    "\n",
    "def get_weekday_name(date_string):\n",
    "    try:\n",
    "        date_object = datetime.strptime(date_string, \"%Y-%m-%d\")\n",
    "        weekday_name = date_object.strftime(\"%A\")\n",
    "        return weekday_name\n",
    "    except ValueError:\n",
    "        return \"Invalid date format. Please use YYYY-MM-DD format.\"\n",
    "    \n",
    "    \n",
    "merged_data\n",
    "combined_invoices\n",
    "merged_dataset = pd.merge(merged_data, combined_invoices, on='invoice_id', how='inner')\n",
    "merged_dataset['week_day_name'] = merged_dataset['invoice_date'].apply(get_weekday_name)\n",
    "\n",
    "merged_dataset"
   ]
  },
  {
   "cell_type": "code",
   "execution_count": 20,
   "id": "2a52e709",
   "metadata": {
    "ExecuteTime": {
     "end_time": "2024-05-04T09:35:24.920049Z",
     "start_time": "2024-05-04T09:35:24.917001Z"
    }
   },
   "outputs": [
    {
     "data": {
      "application/vnd.plotly.v1+json": {
       "config": {
        "plotlyServerURL": "https://plot.ly"
       },
       "data": [
        {
         "type": "bar",
         "x": [
          "Friday",
          "Monday",
          "Saturday",
          "Sunday",
          "Thursday",
          "Tuesday",
          "Wednesday"
         ],
         "y": [
          1157,
          941,
          798,
          1079,
          766,
          921,
          956
         ]
        }
       ],
       "layout": {
        "template": {
         "data": {
          "bar": [
           {
            "error_x": {
             "color": "#2a3f5f"
            },
            "error_y": {
             "color": "#2a3f5f"
            },
            "marker": {
             "line": {
              "color": "#E5ECF6",
              "width": 0.5
             },
             "pattern": {
              "fillmode": "overlay",
              "size": 10,
              "solidity": 0.2
             }
            },
            "type": "bar"
           }
          ],
          "barpolar": [
           {
            "marker": {
             "line": {
              "color": "#E5ECF6",
              "width": 0.5
             },
             "pattern": {
              "fillmode": "overlay",
              "size": 10,
              "solidity": 0.2
             }
            },
            "type": "barpolar"
           }
          ],
          "carpet": [
           {
            "aaxis": {
             "endlinecolor": "#2a3f5f",
             "gridcolor": "white",
             "linecolor": "white",
             "minorgridcolor": "white",
             "startlinecolor": "#2a3f5f"
            },
            "baxis": {
             "endlinecolor": "#2a3f5f",
             "gridcolor": "white",
             "linecolor": "white",
             "minorgridcolor": "white",
             "startlinecolor": "#2a3f5f"
            },
            "type": "carpet"
           }
          ],
          "choropleth": [
           {
            "colorbar": {
             "outlinewidth": 0,
             "ticks": ""
            },
            "type": "choropleth"
           }
          ],
          "contour": [
           {
            "colorbar": {
             "outlinewidth": 0,
             "ticks": ""
            },
            "colorscale": [
             [
              0,
              "#0d0887"
             ],
             [
              0.1111111111111111,
              "#46039f"
             ],
             [
              0.2222222222222222,
              "#7201a8"
             ],
             [
              0.3333333333333333,
              "#9c179e"
             ],
             [
              0.4444444444444444,
              "#bd3786"
             ],
             [
              0.5555555555555556,
              "#d8576b"
             ],
             [
              0.6666666666666666,
              "#ed7953"
             ],
             [
              0.7777777777777778,
              "#fb9f3a"
             ],
             [
              0.8888888888888888,
              "#fdca26"
             ],
             [
              1,
              "#f0f921"
             ]
            ],
            "type": "contour"
           }
          ],
          "contourcarpet": [
           {
            "colorbar": {
             "outlinewidth": 0,
             "ticks": ""
            },
            "type": "contourcarpet"
           }
          ],
          "heatmap": [
           {
            "colorbar": {
             "outlinewidth": 0,
             "ticks": ""
            },
            "colorscale": [
             [
              0,
              "#0d0887"
             ],
             [
              0.1111111111111111,
              "#46039f"
             ],
             [
              0.2222222222222222,
              "#7201a8"
             ],
             [
              0.3333333333333333,
              "#9c179e"
             ],
             [
              0.4444444444444444,
              "#bd3786"
             ],
             [
              0.5555555555555556,
              "#d8576b"
             ],
             [
              0.6666666666666666,
              "#ed7953"
             ],
             [
              0.7777777777777778,
              "#fb9f3a"
             ],
             [
              0.8888888888888888,
              "#fdca26"
             ],
             [
              1,
              "#f0f921"
             ]
            ],
            "type": "heatmap"
           }
          ],
          "heatmapgl": [
           {
            "colorbar": {
             "outlinewidth": 0,
             "ticks": ""
            },
            "colorscale": [
             [
              0,
              "#0d0887"
             ],
             [
              0.1111111111111111,
              "#46039f"
             ],
             [
              0.2222222222222222,
              "#7201a8"
             ],
             [
              0.3333333333333333,
              "#9c179e"
             ],
             [
              0.4444444444444444,
              "#bd3786"
             ],
             [
              0.5555555555555556,
              "#d8576b"
             ],
             [
              0.6666666666666666,
              "#ed7953"
             ],
             [
              0.7777777777777778,
              "#fb9f3a"
             ],
             [
              0.8888888888888888,
              "#fdca26"
             ],
             [
              1,
              "#f0f921"
             ]
            ],
            "type": "heatmapgl"
           }
          ],
          "histogram": [
           {
            "marker": {
             "pattern": {
              "fillmode": "overlay",
              "size": 10,
              "solidity": 0.2
             }
            },
            "type": "histogram"
           }
          ],
          "histogram2d": [
           {
            "colorbar": {
             "outlinewidth": 0,
             "ticks": ""
            },
            "colorscale": [
             [
              0,
              "#0d0887"
             ],
             [
              0.1111111111111111,
              "#46039f"
             ],
             [
              0.2222222222222222,
              "#7201a8"
             ],
             [
              0.3333333333333333,
              "#9c179e"
             ],
             [
              0.4444444444444444,
              "#bd3786"
             ],
             [
              0.5555555555555556,
              "#d8576b"
             ],
             [
              0.6666666666666666,
              "#ed7953"
             ],
             [
              0.7777777777777778,
              "#fb9f3a"
             ],
             [
              0.8888888888888888,
              "#fdca26"
             ],
             [
              1,
              "#f0f921"
             ]
            ],
            "type": "histogram2d"
           }
          ],
          "histogram2dcontour": [
           {
            "colorbar": {
             "outlinewidth": 0,
             "ticks": ""
            },
            "colorscale": [
             [
              0,
              "#0d0887"
             ],
             [
              0.1111111111111111,
              "#46039f"
             ],
             [
              0.2222222222222222,
              "#7201a8"
             ],
             [
              0.3333333333333333,
              "#9c179e"
             ],
             [
              0.4444444444444444,
              "#bd3786"
             ],
             [
              0.5555555555555556,
              "#d8576b"
             ],
             [
              0.6666666666666666,
              "#ed7953"
             ],
             [
              0.7777777777777778,
              "#fb9f3a"
             ],
             [
              0.8888888888888888,
              "#fdca26"
             ],
             [
              1,
              "#f0f921"
             ]
            ],
            "type": "histogram2dcontour"
           }
          ],
          "mesh3d": [
           {
            "colorbar": {
             "outlinewidth": 0,
             "ticks": ""
            },
            "type": "mesh3d"
           }
          ],
          "parcoords": [
           {
            "line": {
             "colorbar": {
              "outlinewidth": 0,
              "ticks": ""
             }
            },
            "type": "parcoords"
           }
          ],
          "pie": [
           {
            "automargin": true,
            "type": "pie"
           }
          ],
          "scatter": [
           {
            "fillpattern": {
             "fillmode": "overlay",
             "size": 10,
             "solidity": 0.2
            },
            "type": "scatter"
           }
          ],
          "scatter3d": [
           {
            "line": {
             "colorbar": {
              "outlinewidth": 0,
              "ticks": ""
             }
            },
            "marker": {
             "colorbar": {
              "outlinewidth": 0,
              "ticks": ""
             }
            },
            "type": "scatter3d"
           }
          ],
          "scattercarpet": [
           {
            "marker": {
             "colorbar": {
              "outlinewidth": 0,
              "ticks": ""
             }
            },
            "type": "scattercarpet"
           }
          ],
          "scattergeo": [
           {
            "marker": {
             "colorbar": {
              "outlinewidth": 0,
              "ticks": ""
             }
            },
            "type": "scattergeo"
           }
          ],
          "scattergl": [
           {
            "marker": {
             "colorbar": {
              "outlinewidth": 0,
              "ticks": ""
             }
            },
            "type": "scattergl"
           }
          ],
          "scattermapbox": [
           {
            "marker": {
             "colorbar": {
              "outlinewidth": 0,
              "ticks": ""
             }
            },
            "type": "scattermapbox"
           }
          ],
          "scatterpolar": [
           {
            "marker": {
             "colorbar": {
              "outlinewidth": 0,
              "ticks": ""
             }
            },
            "type": "scatterpolar"
           }
          ],
          "scatterpolargl": [
           {
            "marker": {
             "colorbar": {
              "outlinewidth": 0,
              "ticks": ""
             }
            },
            "type": "scatterpolargl"
           }
          ],
          "scatterternary": [
           {
            "marker": {
             "colorbar": {
              "outlinewidth": 0,
              "ticks": ""
             }
            },
            "type": "scatterternary"
           }
          ],
          "surface": [
           {
            "colorbar": {
             "outlinewidth": 0,
             "ticks": ""
            },
            "colorscale": [
             [
              0,
              "#0d0887"
             ],
             [
              0.1111111111111111,
              "#46039f"
             ],
             [
              0.2222222222222222,
              "#7201a8"
             ],
             [
              0.3333333333333333,
              "#9c179e"
             ],
             [
              0.4444444444444444,
              "#bd3786"
             ],
             [
              0.5555555555555556,
              "#d8576b"
             ],
             [
              0.6666666666666666,
              "#ed7953"
             ],
             [
              0.7777777777777778,
              "#fb9f3a"
             ],
             [
              0.8888888888888888,
              "#fdca26"
             ],
             [
              1,
              "#f0f921"
             ]
            ],
            "type": "surface"
           }
          ],
          "table": [
           {
            "cells": {
             "fill": {
              "color": "#EBF0F8"
             },
             "line": {
              "color": "white"
             }
            },
            "header": {
             "fill": {
              "color": "#C8D4E3"
             },
             "line": {
              "color": "white"
             }
            },
            "type": "table"
           }
          ]
         },
         "layout": {
          "annotationdefaults": {
           "arrowcolor": "#2a3f5f",
           "arrowhead": 0,
           "arrowwidth": 1
          },
          "autotypenumbers": "strict",
          "coloraxis": {
           "colorbar": {
            "outlinewidth": 0,
            "ticks": ""
           }
          },
          "colorscale": {
           "diverging": [
            [
             0,
             "#8e0152"
            ],
            [
             0.1,
             "#c51b7d"
            ],
            [
             0.2,
             "#de77ae"
            ],
            [
             0.3,
             "#f1b6da"
            ],
            [
             0.4,
             "#fde0ef"
            ],
            [
             0.5,
             "#f7f7f7"
            ],
            [
             0.6,
             "#e6f5d0"
            ],
            [
             0.7,
             "#b8e186"
            ],
            [
             0.8,
             "#7fbc41"
            ],
            [
             0.9,
             "#4d9221"
            ],
            [
             1,
             "#276419"
            ]
           ],
           "sequential": [
            [
             0,
             "#0d0887"
            ],
            [
             0.1111111111111111,
             "#46039f"
            ],
            [
             0.2222222222222222,
             "#7201a8"
            ],
            [
             0.3333333333333333,
             "#9c179e"
            ],
            [
             0.4444444444444444,
             "#bd3786"
            ],
            [
             0.5555555555555556,
             "#d8576b"
            ],
            [
             0.6666666666666666,
             "#ed7953"
            ],
            [
             0.7777777777777778,
             "#fb9f3a"
            ],
            [
             0.8888888888888888,
             "#fdca26"
            ],
            [
             1,
             "#f0f921"
            ]
           ],
           "sequentialminus": [
            [
             0,
             "#0d0887"
            ],
            [
             0.1111111111111111,
             "#46039f"
            ],
            [
             0.2222222222222222,
             "#7201a8"
            ],
            [
             0.3333333333333333,
             "#9c179e"
            ],
            [
             0.4444444444444444,
             "#bd3786"
            ],
            [
             0.5555555555555556,
             "#d8576b"
            ],
            [
             0.6666666666666666,
             "#ed7953"
            ],
            [
             0.7777777777777778,
             "#fb9f3a"
            ],
            [
             0.8888888888888888,
             "#fdca26"
            ],
            [
             1,
             "#f0f921"
            ]
           ]
          },
          "colorway": [
           "#636efa",
           "#EF553B",
           "#00cc96",
           "#ab63fa",
           "#FFA15A",
           "#19d3f3",
           "#FF6692",
           "#B6E880",
           "#FF97FF",
           "#FECB52"
          ],
          "font": {
           "color": "#2a3f5f"
          },
          "geo": {
           "bgcolor": "white",
           "lakecolor": "white",
           "landcolor": "#E5ECF6",
           "showlakes": true,
           "showland": true,
           "subunitcolor": "white"
          },
          "hoverlabel": {
           "align": "left"
          },
          "hovermode": "closest",
          "mapbox": {
           "style": "light"
          },
          "paper_bgcolor": "white",
          "plot_bgcolor": "#E5ECF6",
          "polar": {
           "angularaxis": {
            "gridcolor": "white",
            "linecolor": "white",
            "ticks": ""
           },
           "bgcolor": "#E5ECF6",
           "radialaxis": {
            "gridcolor": "white",
            "linecolor": "white",
            "ticks": ""
           }
          },
          "scene": {
           "xaxis": {
            "backgroundcolor": "#E5ECF6",
            "gridcolor": "white",
            "gridwidth": 2,
            "linecolor": "white",
            "showbackground": true,
            "ticks": "",
            "zerolinecolor": "white"
           },
           "yaxis": {
            "backgroundcolor": "#E5ECF6",
            "gridcolor": "white",
            "gridwidth": 2,
            "linecolor": "white",
            "showbackground": true,
            "ticks": "",
            "zerolinecolor": "white"
           },
           "zaxis": {
            "backgroundcolor": "#E5ECF6",
            "gridcolor": "white",
            "gridwidth": 2,
            "linecolor": "white",
            "showbackground": true,
            "ticks": "",
            "zerolinecolor": "white"
           }
          },
          "shapedefaults": {
           "line": {
            "color": "#2a3f5f"
           }
          },
          "ternary": {
           "aaxis": {
            "gridcolor": "white",
            "linecolor": "white",
            "ticks": ""
           },
           "baxis": {
            "gridcolor": "white",
            "linecolor": "white",
            "ticks": ""
           },
           "bgcolor": "#E5ECF6",
           "caxis": {
            "gridcolor": "white",
            "linecolor": "white",
            "ticks": ""
           }
          },
          "title": {
           "x": 0.05
          },
          "xaxis": {
           "automargin": true,
           "gridcolor": "white",
           "linecolor": "white",
           "ticks": "",
           "title": {
            "standoff": 15
           },
           "zerolinecolor": "white",
           "zerolinewidth": 2
          },
          "yaxis": {
           "automargin": true,
           "gridcolor": "white",
           "linecolor": "white",
           "ticks": "",
           "title": {
            "standoff": 15
           },
           "zerolinecolor": "white",
           "zerolinewidth": 2
          }
         }
        },
        "title": {
         "text": "Total Number of Products Sold by Day of the Week"
        },
        "xaxis": {
         "title": {
          "text": "Day of the Week"
         }
        },
        "yaxis": {
         "title": {
          "text": "Total Products Sold"
         }
        }
       }
      }
     },
     "metadata": {},
     "output_type": "display_data"
    }
   ],
   "source": [
    "grouped_data = merged_dataset.groupby('week_day_name')['quantity'].sum().reset_index()\n",
    "\n",
    "traces = go.Bar(x=grouped_data['week_day_name'], y=grouped_data['quantity'])\n",
    "\n",
    "layout = go.Layout(\n",
    "    title='Total Number of Products Sold by Day of the Week',\n",
    "    xaxis=dict(title='Day of the Week'),\n",
    "    yaxis=dict(title='Total Products Sold'),\n",
    ")\n",
    "\n",
    "fig = go.Figure(data=traces, layout=layout)\n",
    "fig.show()"
   ]
  },
  {
   "cell_type": "markdown",
   "id": "e573005a",
   "metadata": {},
   "source": [
    "# Reshape the data to display the total revenue amount of each product by year side by side. Dispaly the resulting dataframe."
   ]
  },
  {
   "cell_type": "code",
   "execution_count": 30,
   "id": "8627a543",
   "metadata": {
    "ExecuteTime": {
     "end_time": "2024-05-04T09:35:56.773680Z",
     "start_time": "2024-05-04T09:35:56.770172Z"
    }
   },
   "outputs": [
    {
     "data": {
      "text/html": [
       "<div>\n",
       "<style scoped>\n",
       "    .dataframe tbody tr th:only-of-type {\n",
       "        vertical-align: middle;\n",
       "    }\n",
       "\n",
       "    .dataframe tbody tr th {\n",
       "        vertical-align: top;\n",
       "    }\n",
       "\n",
       "    .dataframe thead th {\n",
       "        text-align: right;\n",
       "    }\n",
       "</style>\n",
       "<table border=\"1\" class=\"dataframe\">\n",
       "  <thead>\n",
       "    <tr style=\"text-align: right;\">\n",
       "      <th>year</th>\n",
       "      <th>2020</th>\n",
       "      <th>2021</th>\n",
       "      <th>2022</th>\n",
       "      <th>2023</th>\n",
       "      <th>2024</th>\n",
       "    </tr>\n",
       "    <tr>\n",
       "      <th>product_name</th>\n",
       "      <th></th>\n",
       "      <th></th>\n",
       "      <th></th>\n",
       "      <th></th>\n",
       "      <th></th>\n",
       "    </tr>\n",
       "  </thead>\n",
       "  <tbody>\n",
       "    <tr>\n",
       "      <th>External Hard Drive</th>\n",
       "      <td>561</td>\n",
       "      <td>627</td>\n",
       "      <td>726</td>\n",
       "      <td>638</td>\n",
       "      <td>220</td>\n",
       "    </tr>\n",
       "    <tr>\n",
       "      <th>Flash Drive</th>\n",
       "      <td>364</td>\n",
       "      <td>441</td>\n",
       "      <td>546</td>\n",
       "      <td>385</td>\n",
       "      <td>119</td>\n",
       "    </tr>\n",
       "    <tr>\n",
       "      <th>Laptop Stand</th>\n",
       "      <td>290</td>\n",
       "      <td>275</td>\n",
       "      <td>365</td>\n",
       "      <td>350</td>\n",
       "      <td>75</td>\n",
       "    </tr>\n",
       "    <tr>\n",
       "      <th>Portable Bluetooth Speaker</th>\n",
       "      <td>285</td>\n",
       "      <td>350</td>\n",
       "      <td>310</td>\n",
       "      <td>290</td>\n",
       "      <td>100</td>\n",
       "    </tr>\n",
       "    <tr>\n",
       "      <th>Power Bank</th>\n",
       "      <td>750</td>\n",
       "      <td>840</td>\n",
       "      <td>1215</td>\n",
       "      <td>840</td>\n",
       "      <td>285</td>\n",
       "    </tr>\n",
       "    <tr>\n",
       "      <th>WebCam</th>\n",
       "      <td>171</td>\n",
       "      <td>189</td>\n",
       "      <td>228</td>\n",
       "      <td>186</td>\n",
       "      <td>60</td>\n",
       "    </tr>\n",
       "    <tr>\n",
       "      <th>WiFi Range Extender</th>\n",
       "      <td>360</td>\n",
       "      <td>348</td>\n",
       "      <td>438</td>\n",
       "      <td>384</td>\n",
       "      <td>150</td>\n",
       "    </tr>\n",
       "    <tr>\n",
       "      <th>Wireless Charging Pad</th>\n",
       "      <td>600</td>\n",
       "      <td>570</td>\n",
       "      <td>710</td>\n",
       "      <td>570</td>\n",
       "      <td>170</td>\n",
       "    </tr>\n",
       "    <tr>\n",
       "      <th>Wireless Keyboard</th>\n",
       "      <td>180</td>\n",
       "      <td>171</td>\n",
       "      <td>204</td>\n",
       "      <td>174</td>\n",
       "      <td>54</td>\n",
       "    </tr>\n",
       "    <tr>\n",
       "      <th>Wireless Mouse</th>\n",
       "      <td>232</td>\n",
       "      <td>212</td>\n",
       "      <td>292</td>\n",
       "      <td>272</td>\n",
       "      <td>72</td>\n",
       "    </tr>\n",
       "  </tbody>\n",
       "</table>\n",
       "</div>"
      ],
      "text/plain": [
       "year                        2020  2021  2022  2023  2024\n",
       "product_name                                            \n",
       "External Hard Drive          561   627   726   638   220\n",
       "Flash Drive                  364   441   546   385   119\n",
       "Laptop Stand                 290   275   365   350    75\n",
       "Portable Bluetooth Speaker   285   350   310   290   100\n",
       "Power Bank                   750   840  1215   840   285\n",
       "WebCam                       171   189   228   186    60\n",
       "WiFi Range Extender          360   348   438   384   150\n",
       "Wireless Charging Pad        600   570   710   570   170\n",
       "Wireless Keyboard            180   171   204   174    54\n",
       "Wireless Mouse               232   212   292   272    72"
      ]
     },
     "execution_count": 30,
     "metadata": {},
     "output_type": "execute_result"
    }
   ],
   "source": [
    "def extract_year(date_string):\n",
    "    date_obj = datetime.strptime(date_string, '%Y-%m-%d')\n",
    "    year = date_obj.year\n",
    "    return year\n",
    "\n",
    "merged_dataset['year'] = merged_dataset['invoice_date'].apply(extract_year)\n",
    "\n",
    "pivot_table = merged_dataset.pivot_table(index='product_name', columns='year', values='product_profit', aggfunc='sum')\n",
    "pivot_table"
   ]
  }
 ],
 "metadata": {
  "kernelspec": {
   "display_name": "Python 3 (ipykernel)",
   "language": "python",
   "name": "python3"
  },
  "language_info": {
   "codemirror_mode": {
    "name": "ipython",
    "version": 3
   },
   "file_extension": ".py",
   "mimetype": "text/x-python",
   "name": "python",
   "nbconvert_exporter": "python",
   "pygments_lexer": "ipython3",
   "version": "3.12.3"
  },
  "toc": {
   "base_numbering": 1,
   "nav_menu": {},
   "number_sections": true,
   "sideBar": true,
   "skip_h1_title": false,
   "title_cell": "Table of Contents",
   "title_sidebar": "Contents",
   "toc_cell": false,
   "toc_position": {},
   "toc_section_display": true,
   "toc_window_display": false
  },
  "varInspector": {
   "cols": {
    "lenName": 16,
    "lenType": 16,
    "lenVar": 40
   },
   "kernels_config": {
    "python": {
     "delete_cmd_postfix": "",
     "delete_cmd_prefix": "del ",
     "library": "var_list.py",
     "varRefreshCmd": "print(var_dic_list())"
    },
    "r": {
     "delete_cmd_postfix": ") ",
     "delete_cmd_prefix": "rm(",
     "library": "var_list.r",
     "varRefreshCmd": "cat(var_dic_list()) "
    }
   },
   "types_to_exclude": [
    "module",
    "function",
    "builtin_function_or_method",
    "instance",
    "_Feature"
   ],
   "window_display": false
  }
 },
 "nbformat": 4,
 "nbformat_minor": 5
}
